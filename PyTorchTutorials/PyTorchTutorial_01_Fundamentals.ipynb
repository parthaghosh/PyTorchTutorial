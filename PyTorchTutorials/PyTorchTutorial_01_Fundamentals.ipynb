{
 "cells": [
  {
   "cell_type": "markdown",
   "id": "8e180331",
   "metadata": {},
   "source": [
    "## PyTorch Fundamentals. \n",
    "### All code will be available at the following URL. \n",
    "### URL: https://github.com/mrdbourke/pytorch-deep-learning"
   ]
  },
  {
   "cell_type": "code",
   "execution_count": 1,
   "id": "6a3bb172",
   "metadata": {},
   "outputs": [],
   "source": [
    "import numpy as np \n",
    "import torch\n",
    "import matplotlib.pyplot as plt\n",
    "import pandas as pd "
   ]
  },
  {
   "cell_type": "code",
   "execution_count": 2,
   "id": "4e8cd4e5",
   "metadata": {},
   "outputs": [
    {
     "name": "stdout",
     "output_type": "stream",
     "text": [
      "Sat Feb 24 20:02:53 2024       \n",
      "+-----------------------------------------------------------------------------+\n",
      "| NVIDIA-SMI 472.19       Driver Version: 472.19       CUDA Version: 11.4     |\n",
      "|-------------------------------+----------------------+----------------------+\n",
      "| GPU  Name            TCC/WDDM | Bus-Id        Disp.A | Volatile Uncorr. ECC |\n",
      "| Fan  Temp  Perf  Pwr:Usage/Cap|         Memory-Usage | GPU-Util  Compute M. |\n",
      "|                               |                      |               MIG M. |\n",
      "|===============================+======================+======================|\n",
      "|   0  NVIDIA GeForce ... WDDM  | 00000000:01:00.0 Off |                  N/A |\n",
      "| N/A   44C    P8    11W /  N/A |    175MiB /  8192MiB |      0%      Default |\n",
      "|                               |                      |                  N/A |\n",
      "+-------------------------------+----------------------+----------------------+\n",
      "                                                                               \n",
      "+-----------------------------------------------------------------------------+\n",
      "| Processes:                                                                  |\n",
      "|  GPU   GI   CI        PID   Type   Process name                  GPU Memory |\n",
      "|        ID   ID                                                   Usage      |\n",
      "|=============================================================================|\n",
      "|    0   N/A  N/A     18976    C+G   Insufficient Permissions        N/A      |\n",
      "|    0   N/A  N/A     27280    C+G   Insufficient Permissions        N/A      |\n",
      "|    0   N/A  N/A     45740    C+G   Insufficient Permissions        N/A      |\n",
      "|    0   N/A  N/A     56492    C+G   Insufficient Permissions        N/A      |\n",
      "|    0   N/A  N/A     58532      C   ...orch_gpu_py3.9\\python.exe    N/A      |\n",
      "|    0   N/A  N/A     59232    C+G   Insufficient Permissions        N/A      |\n",
      "|    0   N/A  N/A     64844    C+G   Insufficient Permissions        N/A      |\n",
      "+-----------------------------------------------------------------------------+\n"
     ]
    }
   ],
   "source": [
    "# Publish nvidia GPU status in the local processor\n",
    "!nvidia-smi"
   ]
  },
  {
   "cell_type": "code",
   "execution_count": 3,
   "id": "958482cc",
   "metadata": {},
   "outputs": [
    {
     "name": "stdout",
     "output_type": "stream",
     "text": [
      "version(torch) - 1.11.0\n",
      "\n"
     ]
    }
   ],
   "source": [
    "# Also look at the torch version \n",
    "print(f\"version(torch) - {torch.__version__}\\n\")"
   ]
  },
  {
   "cell_type": "markdown",
   "id": "26a1761d",
   "metadata": {},
   "source": [
    "## Tensors in PyTorch\n",
    "## Tensor, Scalar examples. "
   ]
  },
  {
   "cell_type": "code",
   "execution_count": 4,
   "id": "2f787186",
   "metadata": {},
   "outputs": [
    {
     "name": "stdout",
     "output_type": "stream",
     "text": [
      "Scalar:7\n",
      "dim(scalar): 0\n",
      "scalar has value 7\n"
     ]
    }
   ],
   "source": [
    "scalar = torch.tensor(7)\n",
    "print(f\"Scalar:{scalar}\")\n",
    "print(f\"dim(scalar): {scalar.ndim}\")\n",
    "# 'scalar' variable in the above is still a tensor of dimension 0. \n",
    "# If you want to get pure scalar (int), use the following. \n",
    "print(f\"scalar has value {scalar.item()}\")"
   ]
  },
  {
   "cell_type": "code",
   "execution_count": 5,
   "id": "2cd4cbe7",
   "metadata": {},
   "outputs": [
    {
     "name": "stdout",
     "output_type": "stream",
     "text": [
      "1. VAL Dimension is 0\n",
      "2. VAL Dimension is 1\n",
      "3. VAL Dimension is 2\n"
     ]
    }
   ],
   "source": [
    "val = torch.tensor(7) \n",
    "print(f\"1. VAL Dimension is {val.ndim}\")\n",
    "val = torch.tensor([7,3])\n",
    "print(f\"2. VAL Dimension is {val.ndim}\")\n",
    "val = torch.tensor([[7,3],[7,-3]])\n",
    "print(f\"3. VAL Dimension is {val.ndim}\")"
   ]
  },
  {
   "cell_type": "markdown",
   "id": "bcdd2020",
   "metadata": {},
   "source": [
    "## So what's the difference between ndim & shape?"
   ]
  },
  {
   "cell_type": "code",
   "execution_count": 6,
   "id": "0b950fa3",
   "metadata": {},
   "outputs": [
    {
     "name": "stdout",
     "output_type": "stream",
     "text": [
      "Shape of val: torch.Size([3, 2])\n",
      "Dim of val: 2\n",
      "shape(val): torch.Size([3, 2])   size(val): torch.Size([3, 2])\n"
     ]
    }
   ],
   "source": [
    "# ndim captures the number of dimension, while shape captures details along each axis - namely \n",
    "# the number of elements in each axis too. \n",
    "val = torch.tensor([[1,-1],[2,-2],[3,-3]])\n",
    "print(f\"Shape of val: {val.shape}\")\n",
    "print(f\"Dim of val: {val.ndim}\")\n",
    "\n",
    "# shape attribute can also be replaced by size function\n",
    "print(f\"shape(val): {val.shape}   size(val): {val.size()}\")"
   ]
  },
  {
   "cell_type": "markdown",
   "id": "180eb7e2",
   "metadata": {},
   "source": [
    "## Tests below. "
   ]
  },
  {
   "cell_type": "code",
   "execution_count": 7,
   "id": "ee461033",
   "metadata": {},
   "outputs": [
    {
     "name": "stdout",
     "output_type": "stream",
     "text": [
      "ndim(val): 3\n",
      "shape(val): torch.Size([1, 3, 3])\n"
     ]
    }
   ],
   "source": [
    "# How many ndim/shape for the following tensor. \n",
    "val = torch.tensor([[[1,2,3], [-1,-2,-3],[3,2,1]]])\n",
    "print(f\"ndim(val): {val.ndim}\")\n",
    "print(f\"shape(val): {val.shape}\")"
   ]
  },
  {
   "cell_type": "code",
   "execution_count": 8,
   "id": "89b9b2c9",
   "metadata": {},
   "outputs": [
    {
     "name": "stdout",
     "output_type": "stream",
     "text": [
      "ndim(VAL): 3\n",
      "shape(VAL): torch.Size([2, 2, 2])\n"
     ]
    }
   ],
   "source": [
    "# Further tests \n",
    "VAL = torch.tensor([ [[1,2], [-1,-2]],[[2,2], [-2,-2]] ])\n",
    "print(f\"ndim(VAL): {VAL.ndim}\")  # 3\n",
    "print(f\"shape(VAL): {VAL.shape}\") # 2,2,2"
   ]
  },
  {
   "cell_type": "markdown",
   "id": "2dc54448",
   "metadata": {},
   "source": [
    "## Naming Convention for tensors: \n",
    "## Dimension(0)/Scalar: lower case \n",
    "## Dimension(1)/Vector: lower case \n",
    "## Dimension(2)/Matrix: Upper case \n",
    "## Dimension(n)/Tensor: Upper case "
   ]
  },
  {
   "cell_type": "code",
   "execution_count": 9,
   "id": "d6655143",
   "metadata": {},
   "outputs": [
    {
     "name": "stdout",
     "output_type": "stream",
     "text": [
      "Value of VAL[0] is tensor([[ 1,  2],\n",
      "        [-1, -2]])\n",
      "Value of VAL[0][0] is tensor([1, 2])\n",
      "Value of VAL[0][0][0] is 1\n"
     ]
    }
   ],
   "source": [
    "# Extract values from a tensor. \n",
    "print(f\"Value of VAL[0] is {VAL[0]}\")\n",
    "print(f\"Value of VAL[0][0] is {VAL[0][0]}\")\n",
    "print(f\"Value of VAL[0][0][0] is {VAL[0][0][0]}\")"
   ]
  },
  {
   "cell_type": "markdown",
   "id": "cdd3ba15",
   "metadata": {},
   "source": [
    "## Random Tensors. Necessary for \n",
    "## initializing parameter tensors. "
   ]
  },
  {
   "cell_type": "markdown",
   "id": "b146ddb3",
   "metadata": {},
   "source": [
    "RND_TENSOR = torch.rand(3,4)\n",
    "print(f\"RND_TENSOR.shape = {RND_TENSOR.shape}\")\n",
    "print(f\"RND_TENSOR.ndim = {RND_TENSOR.ndim}\")\n",
    "print(\"Finally, RANDOM_TENSOR is reproduced below. \")\n",
    "RND_TENSOR"
   ]
  },
  {
   "cell_type": "markdown",
   "id": "2aa834d9",
   "metadata": {},
   "source": [
    "## Creating random tensor whose size matches that \n",
    "## of an image. "
   ]
  },
  {
   "cell_type": "code",
   "execution_count": 10,
   "id": "aea0ed35",
   "metadata": {},
   "outputs": [],
   "source": [
    "# Torch tensor with size initialized to a known size tensor. \n",
    "rand_tensor = torch.rand(size=[3,4])"
   ]
  },
  {
   "cell_type": "code",
   "execution_count": 11,
   "id": "a32441cc",
   "metadata": {},
   "outputs": [
    {
     "data": {
      "text/plain": [
       "tensor([[0.0499, 0.6895, 0.9043, 0.8488],\n",
       "        [0.3081, 0.3051, 0.8766, 0.3884],\n",
       "        [0.3648, 0.2967, 0.1923, 0.7172]])"
      ]
     },
     "execution_count": 11,
     "metadata": {},
     "output_type": "execute_result"
    }
   ],
   "source": [
    "rand_tensor"
   ]
  },
  {
   "cell_type": "code",
   "execution_count": 12,
   "id": "afcc9037",
   "metadata": {},
   "outputs": [
    {
     "name": "stdout",
     "output_type": "stream",
     "text": [
      "tensor([[0.2025, 0.4358, 0.7183, 0.0242],\n",
      "        [0.8165, 0.8178, 0.3058, 0.1724],\n",
      "        [0.4287, 0.6183, 0.4186, 0.8043]])\n"
     ]
    }
   ],
   "source": [
    "# You may also use:  torch.rand(size=[3,4])\n",
    "# OR: torch.rand(3,4)\n",
    "rand_tensor = torch.rand(size=(3,4))\n",
    "print(rand_tensor)"
   ]
  },
  {
   "cell_type": "markdown",
   "id": "538db1e3",
   "metadata": {},
   "source": [
    "## Masking a tensor using zero tensor. "
   ]
  },
  {
   "cell_type": "code",
   "execution_count": 13,
   "id": "09605a10",
   "metadata": {},
   "outputs": [
    {
     "name": "stdout",
     "output_type": "stream",
     "text": [
      "tensor([[0., 0., 0., 0.],\n",
      "        [0., 0., 0., 0.],\n",
      "        [0., 0., 0., 0.]])\n"
     ]
    }
   ],
   "source": [
    "mask_zeros = torch.zeros(3,4)\n",
    "masked_tensor = mask_zeros*rand_tensor\n",
    "print(masked_tensor)"
   ]
  },
  {
   "cell_type": "markdown",
   "id": "05118bf8",
   "metadata": {},
   "source": [
    "## Likewise, you can have a tensor with all ones. "
   ]
  },
  {
   "cell_type": "code",
   "execution_count": 14,
   "id": "111dfd60",
   "metadata": {},
   "outputs": [
    {
     "name": "stdout",
     "output_type": "stream",
     "text": [
      "tensor([[1., 1., 1., 1.],\n",
      "        [1., 1., 1., 1.],\n",
      "        [1., 1., 1., 1.]])\n"
     ]
    }
   ],
   "source": [
    "one_tensor = torch.ones(size=(3,4))\n",
    "print(one_tensor)"
   ]
  },
  {
   "cell_type": "markdown",
   "id": "e3191a7b",
   "metadata": {},
   "source": [
    "## Check type of tensor "
   ]
  },
  {
   "cell_type": "code",
   "execution_count": 15,
   "id": "dfd5a371",
   "metadata": {},
   "outputs": [
    {
     "data": {
      "text/plain": [
       "torch.float32"
      ]
     },
     "execution_count": 15,
     "metadata": {},
     "output_type": "execute_result"
    }
   ],
   "source": [
    "masked_tensor.dtype"
   ]
  },
  {
   "cell_type": "markdown",
   "id": "0b3f78d5",
   "metadata": {},
   "source": [
    "## Creating a tensor like another. "
   ]
  },
  {
   "cell_type": "code",
   "execution_count": 16,
   "id": "4bc4a736",
   "metadata": {},
   "outputs": [
    {
     "name": "stdout",
     "output_type": "stream",
     "text": [
      "tensor([ 0,  1,  2,  3,  4,  5,  6,  7,  8,  9, 10])\n"
     ]
    },
    {
     "data": {
      "text/plain": [
       "tensor([0, 0, 0, 0, 0, 0, 0, 0, 0, 0, 0])"
      ]
     },
     "execution_count": 16,
     "metadata": {},
     "output_type": "execute_result"
    }
   ],
   "source": [
    "# Let's start with some tensor. \n",
    "a_tensor = torch.arange(start=0, end=11, step=1)\n",
    "print(a_tensor)\n",
    "\n",
    "# Create a zero tensor with shape same as the one before. \n",
    "zero_tensor = torch.zeros_like(input=a_tensor)\n",
    "zero_tensor"
   ]
  },
  {
   "cell_type": "markdown",
   "id": "f850dc58",
   "metadata": {},
   "source": [
    "## Typical tensor creation problems surround the following. \n",
    "### 1. Data Type mismatch \n",
    "### 2. Shape mismatch \n",
    "### 3. Device mismatch (CPU vs GPU) "
   ]
  },
  {
   "cell_type": "code",
   "execution_count": 17,
   "id": "43c13359",
   "metadata": {},
   "outputs": [],
   "source": [
    "# An example of tensor creation in torch. \n",
    "a_tensor = torch.tensor((3,4), dtype=torch.float32, device=\"cuda\")"
   ]
  },
  {
   "cell_type": "markdown",
   "id": "ccce33ec",
   "metadata": {},
   "source": [
    "## Tensor data type manipulation and assignment\n",
    "### URL: https://pytorch.org/docs/stable/tensors.html"
   ]
  },
  {
   "cell_type": "code",
   "execution_count": 18,
   "id": "eaf31d04",
   "metadata": {},
   "outputs": [
    {
     "data": {
      "text/plain": [
       "torch.int64"
      ]
     },
     "execution_count": 18,
     "metadata": {},
     "output_type": "execute_result"
    }
   ],
   "source": [
    "#\n",
    "# Default data type: int64  \n",
    "#\n",
    "\n",
    "a_tensor = torch.tensor((3,4), dtype=torch.float64, device='cuda')\n",
    "a_tensor.dtype\n",
    "a_tensor = torch.tensor((3,4), dtype=None, device=None)\n",
    "a_tensor.dtype  # int 64-bit"
   ]
  },
  {
   "cell_type": "markdown",
   "id": "d78a83de",
   "metadata": {},
   "source": [
    "## Convert type of a tensor to another type using 'type' method."
   ]
  },
  {
   "cell_type": "code",
   "execution_count": 19,
   "id": "c65f870f",
   "metadata": {},
   "outputs": [
    {
     "data": {
      "text/plain": [
       "torch.float64"
      ]
     },
     "execution_count": 19,
     "metadata": {},
     "output_type": "execute_result"
    }
   ],
   "source": [
    "# Copy an existing tensor into another and change its data type \n",
    "b_tensor = a_tensor.type(torch.float64)\n",
    "b_tensor.dtype # float 64-bit"
   ]
  },
  {
   "cell_type": "code",
   "execution_count": 20,
   "id": "820af06a",
   "metadata": {},
   "outputs": [
    {
     "data": {
      "text/plain": [
       "tensor([ 9., 16.], dtype=torch.float64)"
      ]
     },
     "execution_count": 20,
     "metadata": {},
     "output_type": "execute_result"
    }
   ],
   "source": [
    "# Try to multiply two tensors of different data types (float32, int64)\n",
    "a_tensor*b_tensor  # It works!"
   ]
  },
  {
   "cell_type": "markdown",
   "id": "4962f47e",
   "metadata": {},
   "source": [
    "## Playing with tensor properties: shape, device, dtype"
   ]
  },
  {
   "cell_type": "code",
   "execution_count": 21,
   "id": "61d7ad58",
   "metadata": {},
   "outputs": [
    {
     "name": "stdout",
     "output_type": "stream",
     "text": [
      "Random Tensor is as follows: tensor([[[ 3.,  4.],\n",
      "         [-3., -4.]]])\n",
      "\n",
      "Details about this tensor follows:\n",
      "SHAPE: torch.Size([1, 2, 2])\t DEVICE:cpu\t DTYPE:torch.float32\n"
     ]
    }
   ],
   "source": [
    "# Create a random tensor \n",
    "rnd_tensor = torch.tensor([[[3,4],[-3,-4]]], dtype=torch.float32, device='cpu')\n",
    "print(f\"Random Tensor is as follows: {rnd_tensor}\\n\")\n",
    "print(\"Details about this tensor follows:\" )\n",
    "print(f\"SHAPE: {rnd_tensor.shape}\\t DEVICE:{rnd_tensor.device}\\t DTYPE:{rnd_tensor.dtype}\")"
   ]
  },
  {
   "cell_type": "markdown",
   "id": "44f22e07",
   "metadata": {},
   "source": [
    "## Tensor Operations.\n",
    "### { Addition, Subtraction, Multiplication (Element wise, Matrix), Division }"
   ]
  },
  {
   "cell_type": "code",
   "execution_count": 22,
   "id": "d7297a13",
   "metadata": {},
   "outputs": [],
   "source": [
    "# Examples follow. \n",
    "tensor_a = torch.tensor([[1,2,3,4],[-1,-2,-3,-4]], device='cpu', dtype=torch.float32)\n",
    "tensor_b = torch.tensor([[2,4,6,8],[-2,-4,-6,-8]], device='cpu', dtype=torch.float32)\n",
    "ones_tensor = torch.ones(tensor_a.shape)\n",
    "\n",
    "# Addition\n",
    "\n",
    "add_tensor = tensor_a + ones_tensor \n",
    "# Or using the torch built in function as follows: \n",
    "add_tensor = torch.add(tensor_a,ones_tensor) \n",
    "\n",
    "\n",
    "sub_tensor = tensor_a - ones_tensor\n",
    "const_add_tensor = tensor_a + 10   # Element wise addition by replicating constant\n",
    "# Or using the torch built in function as follows: \n",
    "const_add_tensor = torch.add(tensor_a,10) \n",
    "\n",
    "\n",
    "#\n",
    "# Multiplication: \n",
    "# '*' represents Element wise multiplication. Within this, we have 2 modes. Namely - Constant mult, elem-wise mult\n",
    "# 'matmul' (also called @) : Usual matrix multiplication built-in function of torch. \n",
    "#\n",
    "const_mul_tensor = 3*tensor_a\n",
    "ele_mul_tensor = tensor_a * (const_mul_tensor)\n",
    "# Or using the torch built in function as follows: \n",
    "ele_mul_tensor = torch.mul(tensor_a,const_mul_tensor) \n",
    "\n",
    "# A short form of torch.mul is '@'.\n",
    "# We transpose the const_mul ... matrix below. \n",
    "ele_mul_tensor = tensor_a@const_mul_tensor.T \n",
    "\n",
    "# Division: Typically element wise. \n",
    "ele_div_tensor = tensor_a/tensor_b\n",
    "# Or using the torch built in function as follows: \n",
    "ele_div_tensor = torch.div(tensor_a,tensor_b) "
   ]
  },
  {
   "cell_type": "code",
   "execution_count": 23,
   "id": "29b5d4d4",
   "metadata": {},
   "outputs": [
    {
     "data": {
      "text/plain": [
       "tensor([[-14.,  14.],\n",
       "        [ 14., -14.]])"
      ]
     },
     "execution_count": 23,
     "metadata": {},
     "output_type": "execute_result"
    }
   ],
   "source": [
    "t_a = torch.tensor([[1,2,3],[-1,-2,-3]],dtype=torch.float32)\n",
    "t_b = torch.tensor([[-1,-2,-3],[1,2,3]],dtype=torch.float32)\n",
    "t_a*t_b \n",
    "torch.matmul(t_a,t_b.T)"
   ]
  },
  {
   "cell_type": "markdown",
   "id": "a183cd81",
   "metadata": {},
   "source": [
    "## Tensor Aggregation functions e.g. {min, max, mean, sum etc}"
   ]
  },
  {
   "cell_type": "code",
   "execution_count": 24,
   "id": "c078b184",
   "metadata": {},
   "outputs": [
    {
     "name": "stdout",
     "output_type": "stream",
     "text": [
      "a_tensor: tensor([0., 2., 4., 6., 8.], dtype=torch.float64)\n",
      "\n",
      "MEAN : 4.0\n",
      "\n",
      "torch.min() ==> 0.0\t a_tensor.min() ===> 0.0\n",
      "\n",
      "torch.max() ==> 8.0\t a_tensor.max() ===> 8.0\n",
      "\n",
      "torch.sum() ==> 20.0\t a_tensor.sum() ===> 20.0\n",
      "\n"
     ]
    }
   ],
   "source": [
    "# Define a tensor \n",
    "# This expects dtype to be float32/64 only. \n",
    "a_tensor = torch.arange(start=0, end=10, step=2, dtype=torch.float64)   \n",
    "print(f\"a_tensor: {a_tensor}\\n\")\n",
    "\n",
    "# We may explicitly type the input torch tensors to \n",
    "# allowed data types e.g. float32. \n",
    "a_tensor = a_tensor.type(torch.float32)\n",
    "\n",
    "# Compute mean, min, max, sum etc as follows. \n",
    "tmp = torch.mean(a_tensor.type(torch.float32))\n",
    "print(f\"MEAN : {tmp}\\n\")\n",
    "\n",
    "tmp = torch.min(a_tensor.type(torch.float32))\n",
    "print(f\"torch.min() ==> {tmp}\\t a_tensor.min() ===> {a_tensor.min()}\\n\")\n",
    "\n",
    "tmp = torch.max(a_tensor)\n",
    "print(f\"torch.max() ==> {tmp}\\t a_tensor.max() ===> {a_tensor.max()}\\n\")\n",
    "\n",
    "tmp = torch.sum(a_tensor)\n",
    "print(f\"torch.sum() ==> {tmp}\\t a_tensor.sum() ===> {a_tensor.sum()}\\n\")"
   ]
  },
  {
   "cell_type": "markdown",
   "id": "e892b2d6",
   "metadata": {},
   "source": [
    "## Find positional minimum as well as maximum within a tensor. Typically \n",
    "## useful for optimization. "
   ]
  },
  {
   "cell_type": "code",
   "execution_count": 25,
   "id": "78d104f0",
   "metadata": {},
   "outputs": [
    {
     "name": "stdout",
     "output_type": "stream",
     "text": [
      "Random tensor is as follows: \n",
      " tensor([0.0660, 0.9905, 0.3254, 0.1807, 0.2465, 0.6007, 0.0795, 0.4002, 0.8546])\n",
      "argmin(a_tensor) : 0\n",
      "argmax(a_tensor) : 1\n"
     ]
    }
   ],
   "source": [
    "# Create a random tensor \n",
    "a_tensor = torch.rand((9), dtype=torch.float32)\n",
    "print(f\"Random tensor is as follows: \\n {a_tensor}\")\n",
    "\n",
    "# Positional minimum.Even torch.argmin(a_tensor) will do. \n",
    "print(f\"argmin(a_tensor) : {a_tensor.argmin()}\")\n",
    "\n",
    "# Positional maximum. Even torch.argmax(a_tensor) will do. \n",
    "print(f\"argmax(a_tensor) : {a_tensor.argmax()}\")"
   ]
  },
  {
   "cell_type": "markdown",
   "id": "57f252b2",
   "metadata": {},
   "source": [
    "## Tensor operations. Reshaping Stacking, Squeezing and Unsqueezing Operations. "
   ]
  },
  {
   "cell_type": "code",
   "execution_count": 26,
   "id": "d547b29b",
   "metadata": {},
   "outputs": [
    {
     "data": {
      "text/plain": [
       "tensor([0., 1., 2., 3., 4., 5., 6., 7., 8., 9.])"
      ]
     },
     "execution_count": 26,
     "metadata": {},
     "output_type": "execute_result"
    }
   ],
   "source": [
    "x_tensor = torch.arange(start=0,end=10,step=1, dtype=torch.float32)\n",
    "x_tensor"
   ]
  },
  {
   "cell_type": "code",
   "execution_count": 27,
   "id": "5c4bcb9f",
   "metadata": {},
   "outputs": [
    {
     "data": {
      "text/plain": [
       "(tensor([[0., 1., 2., 3., 4.],\n",
       "         [5., 6., 7., 8., 9.]]),\n",
       " torch.Size([2, 5]))"
      ]
     },
     "execution_count": 27,
     "metadata": {},
     "output_type": "execute_result"
    }
   ],
   "source": [
    "#\n",
    "# Tensor Operation: Reshaping\n",
    "#\n",
    "x_reshaped = torch.reshape(x_tensor,(2,5)) # 10 = 2*5\n",
    "x_reshaped, x_reshaped.shape"
   ]
  },
  {
   "cell_type": "markdown",
   "id": "f2040f6b",
   "metadata": {},
   "source": [
    "## Stacking requires a separate section itself. Here it follows. \n",
    "### 1. Stacking\n",
    "### 2. hstack \n",
    "### 3. vstack\n",
    "#### All the above will have  (single dim, multi dimension) variants. "
   ]
  },
  {
   "cell_type": "code",
   "execution_count": 28,
   "id": "5a005c2c",
   "metadata": {},
   "outputs": [
    {
     "data": {
      "text/plain": [
       "(tensor([[0., 1., 2., 3., 4., 5., 6., 7., 8., 9.],\n",
       "         [0., 1., 2., 3., 4., 5., 6., 7., 8., 9.],\n",
       "         [0., 1., 2., 3., 4., 5., 6., 7., 8., 9.]]),\n",
       " torch.Size([3, 10]))"
      ]
     },
     "execution_count": 28,
     "metadata": {},
     "output_type": "execute_result"
    }
   ],
   "source": [
    "# First the tensor to work with. \n",
    "x_tensor = torch.arange(start=0,end=10,step=1, dtype=torch.float32)\n",
    "\n",
    "#\n",
    "# Tensor Operation: Stacking\n",
    "#\n",
    "# Stacking of Rows \n",
    "#\n",
    "x_reshaped = torch.stack([x_tensor,x_tensor,x_tensor], dim=0) # Each row (dim=0) is stacked on top of other 3-times.\n",
    "x_reshaped, x_reshaped.shape"
   ]
  },
  {
   "cell_type": "code",
   "execution_count": 29,
   "id": "aa7ef144",
   "metadata": {},
   "outputs": [
    {
     "data": {
      "text/plain": [
       "(tensor([[0., 0., 0.],\n",
       "         [1., 1., 1.],\n",
       "         [2., 2., 2.],\n",
       "         [3., 3., 3.],\n",
       "         [4., 4., 4.],\n",
       "         [5., 5., 5.],\n",
       "         [6., 6., 6.],\n",
       "         [7., 7., 7.],\n",
       "         [8., 8., 8.],\n",
       "         [9., 9., 9.]]),\n",
       " torch.Size([10, 3]))"
      ]
     },
     "execution_count": 29,
     "metadata": {},
     "output_type": "execute_result"
    }
   ],
   "source": [
    "#\n",
    "# Tensor Operation: Stacking\n",
    "#\n",
    "# Stacking of Columns \n",
    "#\n",
    "x_reshaped = torch.stack([x_tensor,x_tensor,x_tensor], dim=1) # Each col (dim=1) is stacked on top of other 3-times.\n",
    "x_reshaped, x_reshaped.shape"
   ]
  },
  {
   "cell_type": "code",
   "execution_count": 30,
   "id": "ddee733d",
   "metadata": {},
   "outputs": [
    {
     "data": {
      "text/plain": [
       "(tensor([0., 1., 2., 3., 4., 5., 6., 7., 8., 9., 0., 1., 2., 3., 4., 5., 6., 7.,\n",
       "         8., 9., 0., 1., 2., 3., 4., 5., 6., 7., 8., 9.]),\n",
       " torch.Size([30]))"
      ]
     },
     "execution_count": 30,
     "metadata": {},
     "output_type": "execute_result"
    }
   ],
   "source": [
    "#\n",
    "# Tensor Operation: Stacking  (HSTACK) --- Part-1\n",
    "#\n",
    "# Stacking of 1D Rows \n",
    "#\n",
    "x_reshaped = torch.hstack([x_tensor,x_tensor,x_tensor]) # Each row (dim=0) is concatenated 3-times.\n",
    "x_reshaped, x_reshaped.shape"
   ]
  },
  {
   "cell_type": "code",
   "execution_count": 31,
   "id": "8d2d292d",
   "metadata": {},
   "outputs": [
    {
     "data": {
      "text/plain": [
       "(tensor([[1., 2., 1., 2., 1., 2.],\n",
       "         [3., 4., 3., 4., 3., 4.],\n",
       "         [5., 6., 5., 6., 5., 6.]]),\n",
       " torch.Size([3, 6]))"
      ]
     },
     "execution_count": 31,
     "metadata": {},
     "output_type": "execute_result"
    }
   ],
   "source": [
    "#\n",
    "# Tensor Operation: Stacking  (HSTACK) --- Part-2\n",
    "#\n",
    "# Stacking of Higher Dimensional Tensors \n",
    "#\n",
    "y_tensor = torch.tensor([[1,2],[3,4],[5,6]], dtype=torch.float32)\n",
    "x_reshaped = torch.hstack([y_tensor,y_tensor, y_tensor]) # Each tensor is stacked on top of other 3-times.\n",
    "x_reshaped, x_reshaped.shape"
   ]
  },
  {
   "cell_type": "code",
   "execution_count": 32,
   "id": "2bce435a",
   "metadata": {},
   "outputs": [
    {
     "data": {
      "text/plain": [
       "(tensor([[[1., 2.],\n",
       "          [3., 4.],\n",
       "          [5., 6.]],\n",
       " \n",
       "         [[1., 2.],\n",
       "          [3., 4.],\n",
       "          [5., 6.]],\n",
       " \n",
       "         [[1., 2.],\n",
       "          [3., 4.],\n",
       "          [5., 6.]]]),\n",
       " torch.Size([3, 3, 2]))"
      ]
     },
     "execution_count": 32,
     "metadata": {},
     "output_type": "execute_result"
    }
   ],
   "source": [
    "#\n",
    "# Stacking Row wise of high dimensional tensors. \n",
    "#\n",
    "x_reshaped = torch.stack([y_tensor,y_tensor, y_tensor], dim=0); \n",
    "x_reshaped, x_reshaped.shape"
   ]
  },
  {
   "cell_type": "code",
   "execution_count": 33,
   "id": "cf51b49f",
   "metadata": {},
   "outputs": [
    {
     "data": {
      "text/plain": [
       "(tensor([[[[ 1,  2],\n",
       "           [-1, -2],\n",
       "           [ 3,  4]],\n",
       " \n",
       "          [[-3, -4],\n",
       "           [ 5,  6],\n",
       "           [-5, -6]],\n",
       " \n",
       "          [[ 7,  8],\n",
       "           [-7, -8],\n",
       "           [ 9, 10]]],\n",
       " \n",
       " \n",
       "         [[[ 1,  2],\n",
       "           [-1, -2],\n",
       "           [ 3,  4]],\n",
       " \n",
       "          [[-3, -4],\n",
       "           [ 5,  6],\n",
       "           [-5, -6]],\n",
       " \n",
       "          [[ 7,  8],\n",
       "           [-7, -8],\n",
       "           [ 9, 10]]]]),\n",
       " torch.Size([2, 3, 3, 2]))"
      ]
     },
     "execution_count": 33,
     "metadata": {},
     "output_type": "execute_result"
    }
   ],
   "source": [
    "# Draft: Experiment: Shape (3,3,2) \n",
    "x_tensor = torch.tensor([[[1,2],[-1,-2],[3,4]],[[-3,-4],[5,6],[-5,-6]],[[7,8],[-7,-8],[9,10]]])\n",
    "y_tensor = torch.stack([x_tensor, x_tensor], dim=0)\n",
    "y_tensor, y_tensor.shape"
   ]
  },
  {
   "cell_type": "code",
   "execution_count": 34,
   "id": "c14ba4ad",
   "metadata": {},
   "outputs": [
    {
     "data": {
      "text/plain": [
       "(tensor([[[[ 1,  2],\n",
       "           [-1, -2],\n",
       "           [ 3,  4]],\n",
       " \n",
       "          [[ 1,  2],\n",
       "           [-1, -2],\n",
       "           [ 3,  4]]],\n",
       " \n",
       " \n",
       "         [[[-3, -4],\n",
       "           [ 5,  6],\n",
       "           [-5, -6]],\n",
       " \n",
       "          [[-3, -4],\n",
       "           [ 5,  6],\n",
       "           [-5, -6]]],\n",
       " \n",
       " \n",
       "         [[[ 7,  8],\n",
       "           [-7, -8],\n",
       "           [ 9, 10]],\n",
       " \n",
       "          [[ 7,  8],\n",
       "           [-7, -8],\n",
       "           [ 9, 10]]]]),\n",
       " torch.Size([3, 2, 3, 2]))"
      ]
     },
     "execution_count": 34,
     "metadata": {},
     "output_type": "execute_result"
    }
   ],
   "source": [
    "# Draft: Experiment: Shape (3,3,2) \n",
    "x_tensor = torch.tensor([[[1,2],[-1,-2],[3,4]],[[-3,-4],[5,6],[-5,-6]],[[7,8],[-7,-8],[9,10]]])\n",
    "y_tensor = torch.stack([x_tensor, x_tensor], dim=1)\n",
    "y_tensor, y_tensor.shape"
   ]
  },
  {
   "cell_type": "code",
   "execution_count": 35,
   "id": "4f61e135",
   "metadata": {},
   "outputs": [
    {
     "data": {
      "text/plain": [
       "(tensor([[[[ 1,  2],\n",
       "           [ 1,  2]],\n",
       " \n",
       "          [[-1, -2],\n",
       "           [-1, -2]],\n",
       " \n",
       "          [[ 3,  4],\n",
       "           [ 3,  4]]],\n",
       " \n",
       " \n",
       "         [[[-3, -4],\n",
       "           [-3, -4]],\n",
       " \n",
       "          [[ 5,  6],\n",
       "           [ 5,  6]],\n",
       " \n",
       "          [[-5, -6],\n",
       "           [-5, -6]]],\n",
       " \n",
       " \n",
       "         [[[ 7,  8],\n",
       "           [ 7,  8]],\n",
       " \n",
       "          [[-7, -8],\n",
       "           [-7, -8]],\n",
       " \n",
       "          [[ 9, 10],\n",
       "           [ 9, 10]]]]),\n",
       " torch.Size([3, 3, 2, 2]))"
      ]
     },
     "execution_count": 35,
     "metadata": {},
     "output_type": "execute_result"
    }
   ],
   "source": [
    "# Draft: Experiment: Shape (3,3,2) \n",
    "x_tensor = torch.tensor([[[1,2],[-1,-2],[3,4]],[[-3,-4],[5,6],[-5,-6]],[[7,8],[-7,-8],[9,10]]])\n",
    "y_tensor = torch.stack([x_tensor, x_tensor], dim=2)\n",
    "y_tensor, y_tensor.shape"
   ]
  },
  {
   "cell_type": "code",
   "execution_count": 36,
   "id": "4fa8057d",
   "metadata": {},
   "outputs": [
    {
     "data": {
      "text/plain": [
       "(tensor([[[ 1,  2],\n",
       "          [-1, -2],\n",
       "          [ 3,  4],\n",
       "          [ 1,  2],\n",
       "          [-1, -2],\n",
       "          [ 3,  4]],\n",
       " \n",
       "         [[-3, -4],\n",
       "          [ 5,  6],\n",
       "          [-5, -6],\n",
       "          [-3, -4],\n",
       "          [ 5,  6],\n",
       "          [-5, -6]],\n",
       " \n",
       "         [[ 7,  8],\n",
       "          [-7, -8],\n",
       "          [ 9, 10],\n",
       "          [ 7,  8],\n",
       "          [-7, -8],\n",
       "          [ 9, 10]]]),\n",
       " torch.Size([3, 6, 2]))"
      ]
     },
     "execution_count": 36,
     "metadata": {},
     "output_type": "execute_result"
    }
   ],
   "source": [
    "#\n",
    "# Tensor Operation: Stacking  (HSTACK)\n",
    "#\n",
    "# Stacking of 1D Rows \n",
    "#\n",
    "x_tensor = torch.tensor([[[1,2],[-1,-2],[3,4]],[[-3,-4],[5,6],[-5,-6]],[[7,8],[-7,-8],[9,10]]])\n",
    "y_tensor = torch.hstack([x_tensor,x_tensor])\n",
    "y_tensor, y_tensor.shape"
   ]
  },
  {
   "cell_type": "code",
   "execution_count": 37,
   "id": "2300f9b0",
   "metadata": {},
   "outputs": [
    {
     "data": {
      "text/plain": [
       "(tensor([[[ 1,  2],\n",
       "          [-1, -2],\n",
       "          [ 3,  4]],\n",
       " \n",
       "         [[-3, -4],\n",
       "          [ 5,  6],\n",
       "          [-5, -6]],\n",
       " \n",
       "         [[ 7,  8],\n",
       "          [-7, -8],\n",
       "          [ 9, 10]],\n",
       " \n",
       "         [[ 1,  2],\n",
       "          [-1, -2],\n",
       "          [ 3,  4]],\n",
       " \n",
       "         [[-3, -4],\n",
       "          [ 5,  6],\n",
       "          [-5, -6]],\n",
       " \n",
       "         [[ 7,  8],\n",
       "          [-7, -8],\n",
       "          [ 9, 10]]]),\n",
       " torch.Size([6, 3, 2]))"
      ]
     },
     "execution_count": 37,
     "metadata": {},
     "output_type": "execute_result"
    }
   ],
   "source": [
    "#\n",
    "# Tensor Operation: Stacking  (VSTACK)\n",
    "#\n",
    "# Stacking of 1D Rows \n",
    "#\n",
    "x_tensor = torch.tensor([[[1,2],[-1,-2],[3,4]],[[-3,-4],[5,6],[-5,-6]],[[7,8],[-7,-8],[9,10]]])\n",
    "y_tensor = torch.vstack([x_tensor,x_tensor])\n",
    "y_tensor, y_tensor.shape"
   ]
  },
  {
   "cell_type": "markdown",
   "id": "0f6a6475",
   "metadata": {},
   "source": [
    "## End of Stacking. "
   ]
  },
  {
   "cell_type": "markdown",
   "id": "4f040d89",
   "metadata": {},
   "source": [
    "## Operation: Squeeze and Unsqueeze begins ..."
   ]
  },
  {
   "cell_type": "code",
   "execution_count": 38,
   "id": "59b83a32",
   "metadata": {},
   "outputs": [
    {
     "name": "stdout",
     "output_type": "stream",
     "text": [
      "Before Squeeze Operation\n",
      "x_tensor: tensor([[1, 2, 3, 4, 5]])\t shape(x_tensor): torch.Size([1, 5])\n",
      "After Squeeze (DIM=0): x_tensor: tensor([1, 2, 3, 4, 5])\t shape(x_tensor): torch.Size([5])\n",
      "After Squeeze (DIM=1): x_tensor: tensor([[1, 2, 3, 4, 5]])\t shape(x_tensor): torch.Size([1, 5])\n"
     ]
    }
   ],
   "source": [
    "#\n",
    "# Squeeze operation begins.. \n",
    "#\n",
    "x_tensor = torch.tensor([[1,2,3,4,5]])\n",
    "print(f\"Before Squeeze Operation\") \n",
    "print(f\"x_tensor: {x_tensor}\\t shape(x_tensor): {x_tensor.shape}\")\n",
    "\n",
    "y_tensor = torch.squeeze(x_tensor, dim=0)\n",
    "print(f\"After Squeeze (DIM=0): x_tensor: {y_tensor}\\t shape(x_tensor): {y_tensor.shape}\")\n",
    "\n",
    "y_tensor = torch.squeeze(x_tensor, dim=1)\n",
    "print(f\"After Squeeze (DIM=1): x_tensor: {y_tensor}\\t shape(x_tensor): {y_tensor.shape}\")\n"
   ]
  },
  {
   "cell_type": "code",
   "execution_count": 39,
   "id": "3320fe24",
   "metadata": {},
   "outputs": [
    {
     "name": "stdout",
     "output_type": "stream",
     "text": [
      "Before unsqueeze: \n",
      "x_tensor: tensor([1, 2, 3])\tx.shape: torch.Size([3])\n",
      "x_tensor: tensor([[1],\n",
      "        [2],\n",
      "        [3]])\tx.shape: torch.Size([3, 1])\n"
     ]
    }
   ],
   "source": [
    "#\n",
    "# UnSqueeze operation begins.. \n",
    "#\n",
    "x_tensor = torch.tensor([1,2,3])\n",
    "y_tensor = torch.unsqueeze(x_tensor, dim=1)\n",
    "\n",
    "print(\"Before unsqueeze: \")\n",
    "print(f\"x_tensor: {x_tensor}\\tx.shape: {x_tensor.shape}\")\n",
    "print(f\"x_tensor: {y_tensor}\\tx.shape: {y_tensor.shape}\")"
   ]
  },
  {
   "cell_type": "markdown",
   "id": "6e08d3a6",
   "metadata": {},
   "source": [
    "## Squeeze and Unsqueeze ends ..."
   ]
  },
  {
   "cell_type": "markdown",
   "id": "28663282",
   "metadata": {},
   "source": [
    "## Permute Operation begins ..."
   ]
  },
  {
   "cell_type": "markdown",
   "id": "69465d99",
   "metadata": {},
   "source": [
    "## Goal: Permute helps shift the order of indices of a tensor. \n",
    "### Typically very useful for image processing tasks in permuting two channels. For example, \n",
    "### (height, width, color_channel) is the typical order of an image. If we want to make \"color_channel\" as \n",
    "### the first index, we require permute function. \n",
    "### Examples follow. "
   ]
  },
  {
   "cell_type": "code",
   "execution_count": 40,
   "id": "1a02684d",
   "metadata": {},
   "outputs": [
    {
     "name": "stdout",
     "output_type": "stream",
     "text": [
      "img_tensor.shape: torch.Size([224, 224, 3]) \n",
      "perm_img_tensor.shape: torch.Size([3, 224, 224]) \n"
     ]
    }
   ],
   "source": [
    "# Permute channels.Height:224, Width:224, Color:3\n",
    "img_tensor = torch.rand(size=(224,224,3))\n",
    "\n",
    "# Indices change from existing to the new permutation.\n",
    "# Ex: (0,1,2) => (2,0,1) means, erstwhile index [0] -> [1], [1] -> [2], [2]->[0]   \n",
    "perm_img_tensor = img_tensor.permute([2,0,1]) # color channel moves to index-0, height to 1, width to 2\n",
    "print(f\"img_tensor.shape: {img_tensor.shape} \")\n",
    "print(f\"perm_img_tensor.shape: {perm_img_tensor.shape} \")\n"
   ]
  },
  {
   "cell_type": "code",
   "execution_count": 41,
   "id": "83618e28",
   "metadata": {},
   "outputs": [
    {
     "name": "stdout",
     "output_type": "stream",
     "text": [
      "Pre permutation, img_tensor[0,0,0]: 0.05704730749130249\n",
      "Post permutation, img_tensor[0,0,0]: 1.0\n"
     ]
    }
   ],
   "source": [
    "print(f\"Pre permutation, img_tensor[0,0,0]: {img_tensor[0,0,0]}\")\n",
    "perm_img_tensor[0,0,0]=1\n",
    "print(f\"Post permutation, img_tensor[0,0,0]: {img_tensor[0,0,0]}\")"
   ]
  },
  {
   "cell_type": "markdown",
   "id": "ba44ac6d",
   "metadata": {},
   "source": [
    "## Indexing of tensor elements. "
   ]
  },
  {
   "cell_type": "code",
   "execution_count": 42,
   "id": "1c9cca7c",
   "metadata": {},
   "outputs": [
    {
     "name": "stdout",
     "output_type": "stream",
     "text": [
      "x_tensor: tensor([[[1., 2., 3.],\n",
      "         [4., 5., 6.],\n",
      "         [7., 8., 9.]]])\tx_tensor[0,0]: tensor([1., 2., 3.])\n",
      "\n",
      "\n",
      "The operation below scoops out 3rd element from each list within x_tensor to return a tensor.\n",
      "x_tensor: tensor([[[1., 2., 3.],\n",
      "         [4., 5., 6.],\n",
      "         [7., 8., 9.]]])\tx_tensor[0,:,2]: tensor([3., 6., 9.])\n",
      "\n",
      "\n",
      "The operation below scoops out 2nd element from each list within x_tensor to return a tensor.\n",
      "x_tensor: tensor([[[1., 2., 3.],\n",
      "         [4., 5., 6.],\n",
      "         [7., 8., 9.]]])\tx_tensor[:,:,1]: tensor([[2., 5., 8.]])\n",
      "x_tensor: tensor([[[1., 2., 3.],\n",
      "         [4., 5., 6.],\n",
      "         [7., 8., 9.]]])\tx_tensor[:,1,1]: tensor([5.])\n"
     ]
    }
   ],
   "source": [
    "## Define an arbitrary tensor. \n",
    "x_tensor = torch.tensor([[[1,2,3],[4,5,6],[7,8,9]]], dtype=torch.float32, device='cpu')\n",
    "\n",
    "# It will scoop out the first list within. \n",
    "print(f\"x_tensor: {x_tensor}\\tx_tensor[0,0]: {x_tensor[0,0]}\")\n",
    "\n",
    "# It will scoop out the third element from each list within. \n",
    "print(\"\\n\\nThe operation below scoops out 3rd element from each list within x_tensor to return a tensor.\")\n",
    "print(f\"x_tensor: {x_tensor}\\tx_tensor[0,:,2]: {x_tensor[0,:,2]}\")\n",
    "\n",
    "# It will scoop out the second element from each list within. \n",
    "print(\"\\n\\nThe operation below scoops out 2nd element from each list within x_tensor to return a tensor.\")\n",
    "print(f\"x_tensor: {x_tensor}\\tx_tensor[:,:,1]: {x_tensor[:,:,1]}\")\n",
    "\n",
    "# What is the expected output of the following? \n",
    "print(f\"x_tensor: {x_tensor}\\tx_tensor[:,1,1]: {x_tensor[:,1,1]}\")"
   ]
  },
  {
   "cell_type": "markdown",
   "id": "b4bb45ae",
   "metadata": {},
   "source": [
    "## What's the difference between the return value types of the two below? "
   ]
  },
  {
   "cell_type": "code",
   "execution_count": 43,
   "id": "0ebaaa50",
   "metadata": {},
   "outputs": [
    {
     "data": {
      "text/plain": [
       "tensor(1.)"
      ]
     },
     "execution_count": 43,
     "metadata": {},
     "output_type": "execute_result"
    }
   ],
   "source": [
    "## Define an arbitrary tensor. \n",
    "x_tensor = torch.tensor([[[1,2,3],[4,5,6],[7,8,9]]], dtype=torch.float32, device='cpu')\n",
    "\n",
    "x_tensor[0,0,0]\n"
   ]
  },
  {
   "cell_type": "code",
   "execution_count": 44,
   "id": "8c681e5b",
   "metadata": {},
   "outputs": [
    {
     "data": {
      "text/plain": [
       "tensor([9.])"
      ]
     },
     "execution_count": 44,
     "metadata": {},
     "output_type": "execute_result"
    }
   ],
   "source": [
    "x_tensor[0,2,2:]"
   ]
  },
  {
   "cell_type": "markdown",
   "id": "0c79e3c7",
   "metadata": {},
   "source": [
    "## Topic ends here."
   ]
  },
  {
   "cell_type": "markdown",
   "id": "3e774a7c",
   "metadata": {},
   "source": [
    "## Topic (Numpy to Tensor and Vice Versa) \n",
    "### We typically get data from external world using numpy. How do we convert numpy \n",
    "### data into tensor and then kick off deep learning on the ingested data? All the APIs \n",
    "### below deal with the issues to solve this problem. "
   ]
  },
  {
   "cell_type": "code",
   "execution_count": 45,
   "id": "e35a3286",
   "metadata": {},
   "outputs": [
    {
     "name": "stdout",
     "output_type": "stream",
     "text": [
      "x_tensor: tensor([1., 2., 3., 4., 5., 6., 7., 8., 9.])\n",
      " type(x_tensor): torch.float32\n",
      "\n"
     ]
    },
    {
     "data": {
      "text/plain": [
       "(tensor([1., 1., 1., 1., 1., 1., 1., 1., 1., 1.]),\n",
       " array([1., 1., 1., 1., 1., 1., 1., 1., 1., 1.], dtype=float32))"
      ]
     },
     "execution_count": 45,
     "metadata": {},
     "output_type": "execute_result"
    }
   ],
   "source": [
    "# Create numpy array. \n",
    "# Note: In torch arange, we use <start, end, step> instead of <start, stop, step> like np arange does.\n",
    "np_array = np.arange(start=1.0, stop=10.0, step=1)  \n",
    "\n",
    "\n",
    "# Numpy To Tensor\n",
    "# Convert the np array into torch tensor.\n",
    "# Couple of important points: \n",
    "# 1) By default, from_numpy() returns a float64 array. \n",
    "# 2) Post from_numpy(), tensor is allocated a new memory where numpy data is COPIED. So it is call by value NOT reference. \n",
    "#\n",
    "x_tensor = torch.from_numpy(np_array) \n",
    "x_tensor = x_tensor.type(torch.float32) # Convert to float32 \n",
    "\n",
    "print(f\"x_tensor: {x_tensor}\\n type(x_tensor): {x_tensor.dtype}\\n\")\n",
    "\n",
    "# Tensor to numpy \n",
    "x_tensor = torch.ones(10, dtype=torch.float32)  \n",
    "x_numpy  = x_tensor.numpy() # Note: numpy() will preserve data type to float32 unlike the other way. \n",
    "x_tensor, x_numpy"
   ]
  },
  {
   "cell_type": "markdown",
   "id": "54d5ec08",
   "metadata": {},
   "source": [
    "## Topic: Reproducibility. Ability to recreate an experimental scenario across \n",
    "##             ML Expt runs."
   ]
  },
  {
   "cell_type": "code",
   "execution_count": 46,
   "id": "35912152",
   "metadata": {},
   "outputs": [
    {
     "name": "stdout",
     "output_type": "stream",
     "text": [
      "tensor_A: tensor([[0.8823, 0.9150, 0.3829, 0.9593],\n",
      "        [0.3904, 0.6009, 0.2566, 0.7936],\n",
      "        [0.9408, 0.1332, 0.9346, 0.5936]])\n",
      "\n",
      "tensor_B: tensor([[0.8823, 0.9150, 0.3829, 0.9593],\n",
      "        [0.3904, 0.6009, 0.2566, 0.7936],\n",
      "        [0.9408, 0.1332, 0.9346, 0.5936]])\n",
      "\n",
      "tensor([[True, True, True, True],\n",
      "        [True, True, True, True],\n",
      "        [True, True, True, True]])\n"
     ]
    }
   ],
   "source": [
    "# Define a seed for reproducibility \n",
    "TORCH_SEED = 42 # Typically this is the seed used. \n",
    "\n",
    "\n",
    "# Use the SEED to generate first random tensor. \n",
    "# Define random seed. \n",
    "torch.manual_seed(TORCH_SEED)\n",
    "tensor_A = torch.rand(size=(3,4)) # Anytime it will reproduce result provided thmanual_seede code above is setting the manual seed.\n",
    "\n",
    "# Use the SEED  to generate second random tensor. \n",
    "torch.manual_seed(TORCH_SEED)\n",
    "tensor_B = torch.rand(size=(3,4)) # Anytime it will reproduce result provided the code above is setting the manual seed.\n",
    "\n",
    "# Check if two tensors thus created are equal or not. \n",
    "print(f\"tensor_A: {tensor_A}\\n\")\n",
    "print(f\"tensor_B: {tensor_B}\\n\")\n",
    "print(tensor_A==tensor_B)"
   ]
  },
  {
   "cell_type": "markdown",
   "id": "22885956",
   "metadata": {},
   "source": [
    "## Running Torch/PyTorch objects on GPUs\n",
    "###  PyTorch => CUDA (SW Layer) =>  NVIDIA Hardware\n",
    "### Reference: https://timdettmers.com/2023/01/30/which-gpu-for-deep-learning/ \n",
    "### Reference to setup GPU locally: https://pytorch.org/get-started/locally/#start-locally"
   ]
  },
  {
   "cell_type": "markdown",
   "id": "1af38126",
   "metadata": {},
   "source": [
    "### Step-1: Check for GPU inventory in your local PC below. "
   ]
  },
  {
   "cell_type": "code",
   "execution_count": 47,
   "id": "7da58168",
   "metadata": {},
   "outputs": [
    {
     "name": "stdout",
     "output_type": "stream",
     "text": [
      "Sat Feb 24 20:04:07 2024       \n",
      "+-----------------------------------------------------------------------------+\n",
      "| NVIDIA-SMI 472.19       Driver Version: 472.19       CUDA Version: 11.4     |\n",
      "|-------------------------------+----------------------+----------------------+\n",
      "| GPU  Name            TCC/WDDM | Bus-Id        Disp.A | Volatile Uncorr. ECC |\n",
      "| Fan  Temp  Perf  Pwr:Usage/Cap|         Memory-Usage | GPU-Util  Compute M. |\n",
      "|                               |                      |               MIG M. |\n",
      "|===============================+======================+======================|\n",
      "|   0  NVIDIA GeForce ... WDDM  | 00000000:01:00.0 Off |                  N/A |\n",
      "| N/A   52C    P0    25W /  N/A |    328MiB /  8192MiB |      0%      Default |\n",
      "|                               |                      |                  N/A |\n",
      "+-------------------------------+----------------------+----------------------+\n",
      "                                                                               \n",
      "+-----------------------------------------------------------------------------+\n",
      "| Processes:                                                                  |\n",
      "|  GPU   GI   CI        PID   Type   Process name                  GPU Memory |\n",
      "|        ID   ID                                                   Usage      |\n",
      "|=============================================================================|\n",
      "|    0   N/A  N/A     18976    C+G   Insufficient Permissions        N/A      |\n",
      "|    0   N/A  N/A     27280    C+G   Insufficient Permissions        N/A      |\n",
      "|    0   N/A  N/A     45740    C+G   Insufficient Permissions        N/A      |\n",
      "|    0   N/A  N/A     56492    C+G   Insufficient Permissions        N/A      |\n",
      "|    0   N/A  N/A     58532      C   ...orch_gpu_py3.9\\python.exe    N/A      |\n",
      "|    0   N/A  N/A     59232    C+G   Insufficient Permissions        N/A      |\n",
      "|    0   N/A  N/A     64844    C+G   Insufficient Permissions        N/A      |\n",
      "|    0   N/A  N/A     65256      C   ...orch_gpu_py3.9\\python.exe    N/A      |\n",
      "+-----------------------------------------------------------------------------+\n"
     ]
    }
   ],
   "source": [
    "# Check the GPU inventory by running the following command. \n",
    "!nvidia-smi"
   ]
  },
  {
   "cell_type": "markdown",
   "id": "f9bdb5c9",
   "metadata": {},
   "source": [
    "###  Step-2: Check if PyTorch can access the same. "
   ]
  },
  {
   "cell_type": "code",
   "execution_count": 48,
   "id": "0f785685",
   "metadata": {},
   "outputs": [
    {
     "data": {
      "text/plain": [
       "True"
      ]
     },
     "execution_count": 48,
     "metadata": {},
     "output_type": "execute_result"
    }
   ],
   "source": [
    "import torch \n",
    "torch.cuda.is_available()"
   ]
  },
  {
   "cell_type": "markdown",
   "id": "6bbca348",
   "metadata": {},
   "source": [
    "### Step-3: Check details about the GPU including  numer of GPUs, CPU etc.\n",
    "### To know further details, check in this URL.\n",
    "### URL: https://pytorch.org/docs/stable/notes/cuda.html#best-practices"
   ]
  },
  {
   "cell_type": "code",
   "execution_count": 49,
   "id": "0e164b4b",
   "metadata": {},
   "outputs": [
    {
     "data": {
      "text/plain": [
       "('cuda', 1)"
      ]
     },
     "execution_count": 49,
     "metadata": {},
     "output_type": "execute_result"
    }
   ],
   "source": [
    "# Set up Device agnostic code. \n",
    "\n",
    "# Check if CUDA available otherwise use CPU\n",
    "device = \"cuda\" if torch.cuda.is_available() else \"cpu\" \n",
    "\n",
    "# Also count number of devices \n",
    "num_devices = torch.cuda.device_count()\n",
    "\n",
    "# Print \n",
    "device, num_devices"
   ]
  },
  {
   "cell_type": "markdown",
   "id": "ec6bc4ba",
   "metadata": {},
   "source": [
    "## Step-4: Create few dummy tensors in GPU. "
   ]
  },
  {
   "cell_type": "code",
   "execution_count": 50,
   "id": "01aab592",
   "metadata": {},
   "outputs": [
    {
     "name": "stdout",
     "output_type": "stream",
     "text": [
      "tensor_on_gpu: tensor([1, 2, 3], device='cuda:0')\n",
      "tensor_on_cpu: tensor([1, 2, 3])\n"
     ]
    }
   ],
   "source": [
    "tensor_on_gpu = torch.tensor([1,2,3], device=device)\n",
    "tensor_on_cpu = torch.tensor([1,2,3], device='cpu')\n",
    "print(f\"tensor_on_gpu: {tensor_on_gpu}\")  # It outputs the index (e.g. 'cuda:0') of the GPU where the tensor is located. \n",
    "print(f\"tensor_on_cpu: {tensor_on_cpu}\")  # It outputs the index of the CPU where the tensor is located.  "
   ]
  },
  {
   "cell_type": "markdown",
   "id": "137b52cc",
   "metadata": {},
   "source": [
    "## Step-5: Moving a tensor_on_cpu to GPU and vice-versa "
   ]
  },
  {
   "cell_type": "code",
   "execution_count": 51,
   "id": "588bf345",
   "metadata": {},
   "outputs": [
    {
     "name": "stdout",
     "output_type": "stream",
     "text": [
      "tensor_to_cpu_from_gpu: tensor([1, 2, 3])\n",
      "tensor_to_gpu_from_cpu: tensor([1, 2, 3], device='cuda:0')\n"
     ]
    }
   ],
   "source": [
    "# GPU -> CPU\n",
    "tensor_to_cpu_from_gpu = tensor_on_gpu.cpu()\n",
    "print(f\"tensor_to_cpu_from_gpu: {tensor_to_cpu_from_gpu}\") \n",
    "\n",
    "# CPU -> GPU\n",
    "device = \"cuda\" if torch.cuda.is_available() else \"cpu\"\n",
    "if (device=='cpu'):\n",
    "    msg = \"There is no GPU n device to move CPU tensor to.\"\n",
    "else: \n",
    "    tensor_to_gpu_from_cpu = tensor_on_cpu.to(device)\n",
    "    msg = f\"tensor_to_gpu_from_cpu: {tensor_to_gpu_from_cpu}\"\n",
    "print(msg)"
   ]
  },
  {
   "cell_type": "markdown",
   "id": "a940210f",
   "metadata": {},
   "source": [
    "## Step-6: Operating numpy() on  a tensor.\n",
    "### If tensor is on GPU, it will give error. When that happens, move the tensor to CPU and apply numpy(). "
   ]
  },
  {
   "cell_type": "code",
   "execution_count": 52,
   "id": "c95d3ae9",
   "metadata": {},
   "outputs": [
    {
     "name": "stdout",
     "output_type": "stream",
     "text": [
      "numpy_arr : [1 2 3] gets created successfully from tensor_on_cpu: tensor([1, 2, 3]). \n"
     ]
    }
   ],
   "source": [
    "# See how successfully creeps in. \n",
    "numpy_arr = tensor_on_cpu.numpy()\n",
    "print(f\"numpy_arr : {numpy_arr} gets created successfully from tensor_on_cpu: {tensor_on_cpu}. \")"
   ]
  },
  {
   "cell_type": "code",
   "execution_count": 53,
   "id": "9c1ec315",
   "metadata": {},
   "outputs": [
    {
     "ename": "TypeError",
     "evalue": "can't convert cuda:0 device type tensor to numpy. Use Tensor.cpu() to copy the tensor to host memory first.",
     "output_type": "error",
     "traceback": [
      "\u001b[1;31m---------------------------------------------------------------------------\u001b[0m",
      "\u001b[1;31mTypeError\u001b[0m                                 Traceback (most recent call last)",
      "\u001b[1;32m~\\AppData\\Local\\Temp\\ipykernel_65256\\648271155.py\u001b[0m in \u001b[0;36m<cell line: 2>\u001b[1;34m()\u001b[0m\n\u001b[0;32m      1\u001b[0m \u001b[1;31m# FAILURE EXAMPLE: See how numpy() on a GPU fails. numpy() can work only on CPU tensors.\u001b[0m\u001b[1;33m\u001b[0m\u001b[1;33m\u001b[0m\u001b[1;33m\u001b[0m\u001b[0m\n\u001b[1;32m----> 2\u001b[1;33m \u001b[0mnumpy_arr\u001b[0m \u001b[1;33m=\u001b[0m \u001b[0mtensor_on_gpu\u001b[0m\u001b[1;33m.\u001b[0m\u001b[0mnumpy\u001b[0m\u001b[1;33m(\u001b[0m\u001b[1;33m)\u001b[0m\u001b[1;33m\u001b[0m\u001b[1;33m\u001b[0m\u001b[0m\n\u001b[0m",
      "\u001b[1;31mTypeError\u001b[0m: can't convert cuda:0 device type tensor to numpy. Use Tensor.cpu() to copy the tensor to host memory first."
     ]
    }
   ],
   "source": [
    "# FAILURE EXAMPLE: See how numpy() on a GPU fails. numpy() can work only on CPU tensors. \n",
    "numpy_arr = tensor_on_gpu.numpy()"
   ]
  },
  {
   "cell_type": "code",
   "execution_count": 54,
   "id": "64b708f3",
   "metadata": {},
   "outputs": [
    {
     "name": "stdout",
     "output_type": "stream",
     "text": [
      "numpy_arr_on_cpu : [1 2 3] gets created successfully from tensor_on_gpu: tensor([1, 2, 3], device='cuda:0'). \n"
     ]
    }
   ],
   "source": [
    "# Fix the above problem by moving the tensor onto CPU using cpu() function and run. \n",
    "numpy_arr_on_cpu = tensor_on_gpu.cpu().numpy() \n",
    "print(f\"numpy_arr_on_cpu : {numpy_arr_on_cpu} gets created successfully from tensor_on_gpu: {tensor_on_gpu}. \")"
   ]
  },
  {
   "cell_type": "markdown",
   "id": "5c08a570",
   "metadata": {},
   "source": [
    "## Exercises: To be completed from the following URL. \n",
    "### URL: https://www.learnpytorch.io/00_pytorch_fundamentals/#extra-curriculum"
   ]
  },
  {
   "cell_type": "code",
   "execution_count": 55,
   "id": "c5edef3a",
   "metadata": {},
   "outputs": [
    {
     "data": {
      "text/plain": [
       "tensor([2., 4., 6.], device='cuda:0', dtype=torch.float64)"
      ]
     },
     "execution_count": 55,
     "metadata": {},
     "output_type": "execute_result"
    }
   ],
   "source": [
    "x = torch.tensor([1,2,3],dtype=torch.float64, device=device, requires_grad=True)\n",
    "out = x.pow(2).sum()\n",
    "out.backward()\n",
    "x.grad"
   ]
  },
  {
   "cell_type": "markdown",
   "id": "b041c4cf",
   "metadata": {},
   "source": [
    "## Torch tensor also has 'layout' as a feature which tells us its layout such strided etc. "
   ]
  },
  {
   "cell_type": "code",
   "execution_count": 56,
   "id": "2c0c4cf3",
   "metadata": {},
   "outputs": [
    {
     "data": {
      "text/plain": [
       "torch.strided"
      ]
     },
     "execution_count": 56,
     "metadata": {},
     "output_type": "execute_result"
    }
   ],
   "source": [
    "tensor_on_cpu = torch.tensor([1,2,3], device='cpu')\n",
    "tensor_on_cpu.layout"
   ]
  },
  {
   "cell_type": "code",
   "execution_count": 57,
   "id": "81b3ef23",
   "metadata": {},
   "outputs": [
    {
     "name": "stdout",
     "output_type": "stream",
     "text": [
      "tensor([[1.9625],\n",
      "        [1.0950],\n",
      "        [0.9967],\n",
      "        [1.8910],\n",
      "        [1.9205],\n",
      "        [1.0674],\n",
      "        [1.6949]])\n"
     ]
    }
   ],
   "source": [
    "# Exercise-2 & 3\n",
    "rnd_tensor_A = torch.rand(size=(7,7), dtype=torch.float32)\n",
    "rnd_tensor_B = torch.rand(size=(1,7), dtype=torch.float32)\n",
    "matmul_res = torch.matmul(rnd_tensor_A, rnd_tensor_B.T)\n",
    "print(matmul_res)"
   ]
  },
  {
   "cell_type": "code",
   "execution_count": 58,
   "id": "6aa86915",
   "metadata": {},
   "outputs": [
    {
     "name": "stdout",
     "output_type": "stream",
     "text": [
      "tensor([[1.8542],\n",
      "        [1.9611],\n",
      "        [2.2884],\n",
      "        [3.0481],\n",
      "        [1.7067],\n",
      "        [2.5290],\n",
      "        [1.7989]])\n"
     ]
    }
   ],
   "source": [
    "# Exercise 3 & 4: How to set a random seed for CPU random numbers\n",
    "rnd_seed = 0\n",
    "torch.manual_seed(rnd_seed)\n",
    "rnd_tensor_A = torch.rand(size=(7,7), dtype=torch.float32)\n",
    "rnd_tensor_B = torch.rand(size=(1,7), dtype=torch.float32)\n",
    "matmul_res = torch.matmul(rnd_tensor_A, rnd_tensor_B.T)\n",
    "print(matmul_res)"
   ]
  },
  {
   "cell_type": "markdown",
   "id": "931d2365",
   "metadata": {},
   "source": [
    "## Setting Random number in a reproducible mannet for both the CPU as well as\n",
    "## GPU tensors. \n",
    "### 1. [CPU] Set manual seed value. \n",
    "### 2. [GPU] To ensure reproducibility of GPU tensors, both the CPU as well as GPU seeds must be set. \n",
    "###      Simply one won't suffice. "
   ]
  },
  {
   "cell_type": "code",
   "execution_count": 59,
   "id": "586c0f11",
   "metadata": {},
   "outputs": [
    {
     "name": "stdout",
     "output_type": "stream",
     "text": [
      "Random_Seed: 1234\t rnd_tensor_A: tensor([[0.0290, 0.4019, 0.2598, 0.3666, 0.0583, 0.7006, 0.0518],\n",
      "        [0.4681, 0.6738, 0.3315, 0.7837, 0.5631, 0.7749, 0.8208],\n",
      "        [0.2793, 0.6817, 0.2837, 0.6567, 0.2388, 0.7313, 0.6012],\n",
      "        [0.3043, 0.2548, 0.6294, 0.9665, 0.7399, 0.4517, 0.4757],\n",
      "        [0.7842, 0.1525, 0.6662, 0.3343, 0.7893, 0.3216, 0.5247],\n",
      "        [0.6688, 0.8436, 0.4265, 0.9561, 0.0770, 0.4108, 0.0014],\n",
      "        [0.5414, 0.6419, 0.2976, 0.7077, 0.4189, 0.0655, 0.8839]],\n",
      "       device='cuda:0')\n"
     ]
    }
   ],
   "source": [
    "# Exercise 5: How to set a random seed for GPU random numbers\n",
    "rnd_seed =1234\n",
    "\n",
    "# To ensure reproducibility, you have to set both set seed for both the \n",
    "# CPU as well as GPU units. \n",
    "torch.manual_seed(rnd_seed) \n",
    "torch.cuda.manual_seed_all(rnd_seed)\n",
    "\n",
    "rnd_tensor_A = torch.rand(size=(7,7), dtype=torch.float32).to(device)\n",
    "print(f\"Random_Seed: {rnd_seed}\\t rnd_tensor_A: {rnd_tensor_A}\")"
   ]
  },
  {
   "cell_type": "code",
   "execution_count": 60,
   "id": "19101fb4",
   "metadata": {},
   "outputs": [
    {
     "name": "stdout",
     "output_type": "stream",
     "text": [
      "GPU tensor_A: tensor([[0.0290, 0.4019, 0.2598],\n",
      "        [0.3666, 0.0583, 0.7006]], device='cuda:0')\t GPU tensor_B: tensor([[0.0518, 0.4681, 0.6738],\n",
      "        [0.3315, 0.7837, 0.5631]], device='cuda:0')\n"
     ]
    }
   ],
   "source": [
    "# Exercise 6: Create and set two random tensors of size (2,3) and send them to GPU.\n",
    "device = \"cuda\" if torch.cuda.is_available() else \"cpu\"\n",
    "\n",
    "# Set random seed \n",
    "rnd_seed = 1234 \n",
    "torch.manual_seed(rnd_seed)\n",
    "if (device!= 'cpu'): \n",
    "    torch.cuda.manual_seed_all(rnd_seed)  \n",
    "    \n",
    "tensor_A = torch.rand(size=(2,3)).to(device)\n",
    "tensor_B = torch.rand(size=(2,3)).to(device)\n",
    "\n",
    "print(f\"GPU tensor_A: {tensor_A}\\t GPU tensor_B: {tensor_B}\")"
   ]
  },
  {
   "cell_type": "code",
   "execution_count": 61,
   "id": "5c17083f",
   "metadata": {},
   "outputs": [
    {
     "name": "stdout",
     "output_type": "stream",
     "text": [
      "matmul_gpu: tensor([[0.3646, 0.4708],\n",
      "        [0.5184, 0.5617]], device='cuda:0')\n"
     ]
    }
   ],
   "source": [
    "# Exercise: 7 matmul on two tensors generated above. \n",
    "matmul_gpu = torch.matmul(tensor_A,tensor_B.T)\n",
    "print(f\"matmul_gpu: {matmul_gpu}\")"
   ]
  },
  {
   "cell_type": "code",
   "execution_count": 62,
   "id": "7f222262",
   "metadata": {},
   "outputs": [
    {
     "name": "stdout",
     "output_type": "stream",
     "text": [
      "min(matmul_gpu): 0.36461344361305237\tmax(matmul_gpu): 0.5617334246635437 \n"
     ]
    }
   ],
   "source": [
    "# Exercise:8 Find the max/min values of matmul_gpu \n",
    "print(f\"min(matmul_gpu): {matmul_gpu.min()}\\tmax(matmul_gpu): {matmul_gpu.max()} \")"
   ]
  },
  {
   "cell_type": "code",
   "execution_count": 63,
   "id": "7e773d9f",
   "metadata": {},
   "outputs": [
    {
     "name": "stdout",
     "output_type": "stream",
     "text": [
      "min_index(matmul_gpu): 0\tmax(matmul_gpu): 3 \n"
     ]
    }
   ],
   "source": [
    "# Exercise:9 Find the max/min index values of matmul_gpu \n",
    "print(f\"min_index(matmul_gpu): {matmul_gpu.argmin()}\\tmax(matmul_gpu): {matmul_gpu.argmax()} \")"
   ]
  },
  {
   "cell_type": "code",
   "execution_count": 64,
   "id": "f7ba7383",
   "metadata": {},
   "outputs": [
    {
     "name": "stdout",
     "output_type": "stream",
     "text": [
      "SQUEEZE tensor_A: torch.Size([1, 1, 1, 10]) tensor_A:tensor([[[[0.5349, 0.1988, 0.6592, 0.6569, 0.2328, 0.4251, 0.2071, 0.6297,\n",
      "           0.3653, 0.8513]]]])\n",
      " Squeezed Version: tensor_B: torch.Size([10])\n"
     ]
    }
   ],
   "source": [
    "#Exercise:9  Create a random tensor of shape (1,1,1,10) and create a new tensor with all 1's removed. \n",
    "rnd_seed = 7 \n",
    "torch.manual_seed(rnd_seed)\n",
    "tensor_A = torch.rand(size=(1,1,1,10))\n",
    "tensor_B = tensor_A.squeeze()\n",
    "print(f\"SQUEEZE tensor_A: {tensor_A.shape} tensor_A:{tensor_A}\\n Squeezed Version: tensor_B: {tensor_B.shape}\")"
   ]
  },
  {
   "cell_type": "markdown",
   "id": "5f9beddc",
   "metadata": {},
   "source": [
    "## PyTorch ML Training Workflow Course now begins.\n",
    "### 1. Ground Truth Notebook:  https://github.com/mrdbourke/pytorch-deep-learning/blob/main/video_notebooks/01_pytorch_workflow_video.ipynb\n",
    "### 2. Book version of notebook: https://www.learnpytorch.io/01_pytorch_workflow/\n",
    "### 3. Ask a question: TBD"
   ]
  },
  {
   "cell_type": "code",
   "execution_count": 65,
   "id": "4692a23a",
   "metadata": {},
   "outputs": [],
   "source": [
    "# Prepare import of libraries \n",
    "import torch \n",
    "from torch import nn\n",
    "import matplotlib.pyplot as plt"
   ]
  },
  {
   "cell_type": "markdown",
   "id": "e5e32ff3",
   "metadata": {},
   "source": [
    "### Phase-1: Data Loading.\n",
    "#### Model: Linear Regression as an example. "
   ]
  },
  {
   "cell_type": "code",
   "execution_count": 66,
   "id": "e5fd5b4b",
   "metadata": {},
   "outputs": [
    {
     "data": {
      "text/plain": [
       "tensor([[0.9300],\n",
       "        [0.9440],\n",
       "        [0.9580],\n",
       "        [0.9720],\n",
       "        [0.9860]])"
      ]
     },
     "execution_count": 66,
     "metadata": {},
     "output_type": "execute_result"
    }
   ],
   "source": [
    "# Define device \n",
    "if torch.cuda.is_available(): \n",
    "    device = \"cuda\" \n",
    "else: \n",
    "    device = \"cpu\"\n",
    "    \n",
    "#  Artificial Data Creation \n",
    "\n",
    "# Predictor\n",
    "X = torch.arange(start=0, end=1, step=0.02).unsqueeze(dim=1) \n",
    "\n",
    "# Outcome variable assuming weight & bias as follows. \n",
    "weight = 0.7; bias = 0.3\n",
    "y = weight*X+bias \n",
    "\n",
    "\n",
    "# Train, Valid, Test split \n",
    "ratio_train = 0.7 \n",
    "ratio_valid = 0.2 \n",
    "\n",
    "# Size of samples of each set \n",
    "len_X = len(X)\n",
    "trng_len = int(len_X*ratio_train)\n",
    "valid_len = int(len_X*ratio_valid)\n",
    "test_len = len_X - (trng_len+valid_len)\n",
    "\n",
    "# Form the training, validation & test sets \n",
    "set_trng = X[:trng_len]; label_trng = y[:trng_len]\n",
    "set_valid = X[trng_len:(trng_len+valid_len)]; label_valid = y[trng_len:(trng_len+valid_len)]\n",
    "set_test = X[(trng_len+valid_len): len_X]; label_test = y[(trng_len+valid_len): len_X]\n",
    "label_test"
   ]
  },
  {
   "cell_type": "code",
   "execution_count": 67,
   "id": "8a71c4c4",
   "metadata": {},
   "outputs": [],
   "source": [
    "# Plot the pictures by defining a new plot function \n",
    "def PlotPredictions(trngData, trngLabels, validData, validLabels, testData, testLabels, predictions):\n",
    "    plt.figure(figsize=(10,7))\n",
    "    if (trngData is not None):\n",
    "        plt.scatter(trngData, trngLabels, c='b',s=4, label='Training Data')\n",
    "    if (validData is not None):\n",
    "        plt.scatter(validData, validLabels, c='g',s=4, label='Validation Data')\n",
    "    if (testData is not None):\n",
    "        plt.scatter(testData, testLabels, c='r',s=4, label='Test Data')\n",
    "    if (predictions is not None):\n",
    "        plt.scatter(testData, predictions, c='c',s=4, label='Predictions')\n",
    "    plt.legend(prop={\"size\":16})\n",
    "    plt.show()\n",
    "    pass "
   ]
  },
  {
   "cell_type": "code",
   "execution_count": 68,
   "id": "fa95a8ec",
   "metadata": {},
   "outputs": [
    {
     "data": {
      "image/png": "[encoded data removed]",
      "text/plain": [
       "<Figure size 720x504 with 1 Axes>"
      ]
     },
     "metadata": {
      "needs_background": "light"
     },
     "output_type": "display_data"
    },
    {
     "data": {
      "text/plain": [
       "tensor([[0.9300],\n",
       "        [0.9440],\n",
       "        [0.9580],\n",
       "        [0.9720],\n",
       "        [0.9860]])"
      ]
     },
     "execution_count": 68,
     "metadata": {},
     "output_type": "execute_result"
    }
   ],
   "source": [
    "# Plot the scatter plot of training/test \n",
    "PlotPredictions(set_trng,label_trng,set_valid, label_valid, set_test,label_test, None)\n",
    "label_test"
   ]
  },
  {
   "cell_type": "markdown",
   "id": "bd58130d",
   "metadata": {},
   "source": [
    "## Phase-2: Model building\n",
    "### Build a linear regression model using PyTorch. \n",
    "### This example simply generalizes learning of y=f(x) explicitly.  Honestly, 'f' represents the \n",
    "### 'forward()' function. Backpropagation is a behind the scene task.  \n",
    "#### You should also consider looking into PyTorch cheatsheet whose URL is given below. \n",
    "####   URL: https://pytorch.org/tutorials/beginner/ptcheat.html"
   ]
  },
  {
   "cell_type": "code",
   "execution_count": 69,
   "id": "5b45da90",
   "metadata": {},
   "outputs": [],
   "source": [
    "from torch import nn"
   ]
  },
  {
   "cell_type": "code",
   "execution_count": 70,
   "id": "b3790c8e",
   "metadata": {},
   "outputs": [],
   "source": [
    "# Define a regression model class\n",
    "class LinearRegressionModel(nn.Module): \n",
    "    def __init__(self):\n",
    "        super().__init__()        \n",
    "        # Define variables as in y=f(x1, x2, x3) \n",
    "        self.weights = nn.Parameter(torch.randn(1,requires_grad=True, dtype=torch.float64))\n",
    "        self.bias = nn.Parameter(torch.randn(1, requires_grad=True,dtype=torch.float64))\n",
    "        pass \n",
    "    \n",
    "    # x is of type Tensor, '->' implies that the function returns a Tensor too. \n",
    "    def forward(self,x:torch.Tensor) -> torch.Tensor:\n",
    "        # Use defined variable in __init__() to compute f(x)\n",
    "        return  x*self.weights+self.bias \n",
    "        pass \n",
    "    pass "
   ]
  },
  {
   "cell_type": "code",
   "execution_count": 71,
   "id": "ba0f07ef",
   "metadata": {},
   "outputs": [
    {
     "data": {
      "text/plain": [
       "tensor([[0.9300],\n",
       "        [0.9440],\n",
       "        [0.9580],\n",
       "        [0.9720],\n",
       "        [0.9860]])"
      ]
     },
     "execution_count": 71,
     "metadata": {},
     "output_type": "execute_result"
    }
   ],
   "source": [
    "# Instantiate a model with a random_seed \n",
    "rnd_seed  = 42\n",
    "torch.manual_seed(rnd_seed)\n",
    "my_model = LinearRegressionModel() \n",
    "label_test"
   ]
  },
  {
   "cell_type": "markdown",
   "id": "ecd5bb88",
   "metadata": {},
   "source": [
    "### Listing out parameters of a model. "
   ]
  },
  {
   "cell_type": "code",
   "execution_count": 72,
   "id": "99a5d0b8",
   "metadata": {},
   "outputs": [
    {
     "data": {
      "text/plain": [
       "[Parameter containing:\n",
       " tensor([0.3367], dtype=torch.float64, requires_grad=True),\n",
       " Parameter containing:\n",
       " tensor([0.1288], dtype=torch.float64, requires_grad=True)]"
      ]
     },
     "execution_count": 72,
     "metadata": {},
     "output_type": "execute_result"
    }
   ],
   "source": [
    "# List out parameters of the model without naming parameters. \n",
    "list(my_model.parameters())"
   ]
  },
  {
   "cell_type": "code",
   "execution_count": 73,
   "id": "60a24b27",
   "metadata": {},
   "outputs": [
    {
     "data": {
      "text/plain": [
       "tensor([[0.9300],\n",
       "        [0.9440],\n",
       "        [0.9580],\n",
       "        [0.9720],\n",
       "        [0.9860]])"
      ]
     },
     "execution_count": 73,
     "metadata": {},
     "output_type": "execute_result"
    }
   ],
   "source": [
    "# State Dictionary: Listing out named parameters of the model \n",
    "my_model.state_dict()\n",
    "label_test"
   ]
  },
  {
   "cell_type": "markdown",
   "id": "77288ebc",
   "metadata": {},
   "source": [
    "## Phase-3: Prediction"
   ]
  },
  {
   "cell_type": "markdown",
   "id": "9a4af831",
   "metadata": {},
   "source": [
    "### NOTE: torch.inference_mode() (called CONTEXT MANAGER) below ensures that backpropagation is disabled and ony forward pass is on. This will make predictions also FASTER. 'torch.inference_mode()' is faster than even 'torch.no_grad()'. "
   ]
  },
  {
   "cell_type": "code",
   "execution_count": 74,
   "id": "534b83cd",
   "metadata": {},
   "outputs": [
    {
     "name": "stdout",
     "output_type": "stream",
     "text": [
      "Without Inference Mode: y =tensor([4.1691], dtype=torch.float64, grad_fn=<AddBackward0>)\n",
      "\n",
      "With Inference Mode ON: y =tensor([4.1691], dtype=torch.float64)\n",
      "\n"
     ]
    }
   ],
   "source": [
    "# Without inference_mode, look at the prediction outputs. It contains grad (\"grad_fn=<AddBackward0>\") for backpropagation. \n",
    "x = 12\n",
    "y=my_model(x)\n",
    "print(f\"Without Inference Mode: y ={ y}\\n\")\n",
    "\n",
    "# With inference_mode on, grad (\"grad_fn=<AddBackward0>\") will not be present.\n",
    "with torch.inference_mode(): \n",
    "    y = my_model(x)\n",
    "    print(f\"With Inference Mode ON: y ={ y}\\n\")\n",
    "    label_test"
   ]
  },
  {
   "cell_type": "code",
   "execution_count": 75,
   "id": "cdd5afda",
   "metadata": {
    "scrolled": true
   },
   "outputs": [
    {
     "name": "stdout",
     "output_type": "stream",
     "text": [
      "\n",
      "========================================\n",
      "\n",
      "Prediction(set_test=tensor([[0.9000],\n",
      "        [0.9200],\n",
      "        [0.9400],\n",
      "        [0.9600],\n",
      "        [0.9800]])):tensor([[0.4318],\n",
      "        [0.4386],\n",
      "        [0.4453],\n",
      "        [0.4520],\n",
      "        [0.4588]], dtype=torch.float64).\n",
      "ACTUAL: tensor([[0.9300],\n",
      "        [0.9440],\n",
      "        [0.9580],\n",
      "        [0.9720],\n",
      "        [0.9860]])\n"
     ]
    },
    {
     "data": {
      "image/png": "[encoded data removed]",
      "text/plain": [
       "<Figure size 720x504 with 1 Axes>"
      ]
     },
     "metadata": {
      "needs_background": "light"
     },
     "output_type": "display_data"
    },
    {
     "name": "stdout",
     "output_type": "stream",
     "text": [
      "\n",
      "========================================\n",
      "\n"
     ]
    }
   ],
   "source": [
    "print(\"\\n========================================\\n\")\n",
    "# Predict values of y for a set of tensors set_test\n",
    "with torch.inference_mode(): \n",
    "    predictions = my_model(set_test)\n",
    "    actuals = weight*set_test+bias\n",
    "    print(f\"Prediction(set_test={set_test}):{predictions}.\\nACTUAL: {actuals}\")\n",
    "    PlotPredictions(set_trng, label_trng, None, None, set_test, label_test, predictions)\n",
    "print(\"\\n========================================\\n\")"
   ]
  },
  {
   "cell_type": "markdown",
   "id": "1cfd0f4b",
   "metadata": {},
   "source": [
    "## Phase-4: Loss / Optimizer Functions. \n",
    "### Doc reference: \n",
    "####      URL: Loss Functions (https://pytorch.org/docs/stable/nn.html#loss-functions)\n"
   ]
  },
  {
   "cell_type": "code",
   "execution_count": 76,
   "id": "cfd599c5",
   "metadata": {},
   "outputs": [],
   "source": [
    "def Train(my_model, set_trng:torch.Tensor, label_trng:torch.Tensor) -> list: \n",
    "\n",
    "    # Set loss function\n",
    "    loss_fn = nn.L1Loss()\n",
    "\n",
    "    # Optimizer: Derived from torch and NOT from nn\n",
    "    optimizer = torch.optim.SGD(params=my_model.parameters(), lr=0.01 )\n",
    "\n",
    "    # Start the training loop \n",
    "    num_epochs = 1000\n",
    "\n",
    "    # Store sequence of losses \n",
    "    seq_loss_trng = [] \n",
    "    seq_loss_test = [] \n",
    "    seq_epoch = [] \n",
    "\n",
    "    for epoch in range(num_epochs):\n",
    "\n",
    "        # Turn on gradient tracking for all parameters any other setup required for training.\n",
    "        my_model.train()\n",
    "\n",
    "        # Forward pass \n",
    "        predictions = my_model(set_trng)\n",
    "\n",
    "        # Loss computation \n",
    "        model_loss = loss_fn(predictions, label_trng)\n",
    "\n",
    "        # Zero grad \n",
    "        optimizer.zero_grad()\n",
    "\n",
    "        # Back propagation \n",
    "        model_loss.backward() \n",
    "\n",
    "        # Parameter update \n",
    "        optimizer.step() \n",
    "\n",
    "        # Evaluate the model\n",
    "        if (epoch%10==0):    \n",
    "\n",
    "            # Turn off different settings for models not required for evaluation including (DropOut/BatchNorm etc)\n",
    "            my_model.eval()\n",
    "            test_preds = my_model(set_test).squeeze(dim=1)\n",
    "            test_loss = loss_fn(test_preds, label_test)\n",
    "            print(f\"EPOCH#{epoch}:\\tMODEL_LOSS:{model_loss}\\t TEST_LOSS:{test_loss}\\n\")\n",
    "\n",
    "            # Append epoch number \n",
    "            seq_epoch.append(epoch) \n",
    "\n",
    "            # Append training loss \n",
    "            seq_loss_trng.append(model_loss.item()) \n",
    "\n",
    "            # Append test loss \n",
    "            seq_loss_test.append(test_loss.item()) \n",
    "\n",
    "    print(\"Out of training loop.\")\n",
    "    return(seq_epoch, seq_loss_trng, seq_loss_test)"
   ]
  },
  {
   "cell_type": "code",
   "execution_count": 77,
   "id": "0574a744",
   "metadata": {},
   "outputs": [
    {
     "name": "stdout",
     "output_type": "stream",
     "text": [
      "EPOCH#0:\tMODEL_LOSS:0.29471587817644573\t TEST_LOSS:0.49950566686936837\n",
      "\n",
      "EPOCH#10:\tMODEL_LOSS:0.1831558783530457\t TEST_LOSS:0.3675456671945543\n",
      "\n",
      "EPOCH#20:\tMODEL_LOSS:0.07850800379802265\t TEST_LOSS:0.24145035323028274\n",
      "\n",
      "EPOCH#30:\tMODEL_LOSS:0.048535997113071376\t TEST_LOSS:0.17452669637709728\n",
      "\n",
      "EPOCH#40:\tMODEL_LOSS:0.04299894375922189\t TEST_LOSS:0.146940410911942\n",
      "\n",
      "EPOCH#50:\tMODEL_LOSS:0.040068888123298584\t TEST_LOSS:0.13352006830962446\n",
      "\n",
      "EPOCH#60:\tMODEL_LOSS:0.03729533064461908\t TEST_LOSS:0.12238338283399233\n",
      "\n",
      "EPOCH#70:\tMODEL_LOSS:0.03456799003702246\t TEST_LOSS:0.11354109733191604\n",
      "\n",
      "EPOCH#80:\tMODEL_LOSS:0.03183940233090034\t TEST_LOSS:0.10469881182983957\n",
      "\n",
      "EPOCH#90:\tMODEL_LOSS:0.029115823907369127\t TEST_LOSS:0.0950917263365778\n",
      "\n",
      "EPOCH#100:\tMODEL_LOSS:0.02639520356573532\t TEST_LOSS:0.08624944083450137\n",
      "\n",
      "EPOCH#110:\tMODEL_LOSS:0.023672878397780244\t TEST_LOSS:0.07740715533242493\n",
      "\n",
      "EPOCH#120:\tMODEL_LOSS:0.020944290691658127\t TEST_LOSS:0.06856486983034848\n",
      "\n",
      "EPOCH#130:\tMODEL_LOSS:0.018215702985536007\t TEST_LOSS:0.059722584328272044\n",
      "\n",
      "EPOCH#140:\tMODEL_LOSS:0.015495076486851549\t TEST_LOSS:0.05030882544816639\n",
      "\n",
      "EPOCH#150:\tMODEL_LOSS:0.012774456145217744\t TEST_LOSS:0.04222347709795662\n",
      "\n",
      "EPOCH#160:\tMODEL_LOSS:0.010049179052415903\t TEST_LOSS:0.03540169147377975\n",
      "\n",
      "EPOCH#170:\tMODEL_LOSS:0.007320591346293801\t TEST_LOSS:0.029671008685224896\n",
      "\n",
      "EPOCH#180:\tMODEL_LOSS:0.004594949407967757\t TEST_LOSS:0.024918405577417948\n",
      "\n",
      "EPOCH#190:\tMODEL_LOSS:0.0018743290663339558\t TEST_LOSS:0.023282832794542616\n",
      "\n",
      "EPOCH#200:\tMODEL_LOSS:0.003448680433641195\t TEST_LOSS:0.023614918559148865\n",
      "\n",
      "EPOCH#210:\tMODEL_LOSS:0.003448680433641195\t TEST_LOSS:0.023614918559148865\n",
      "\n",
      "EPOCH#220:\tMODEL_LOSS:0.003448680433641195\t TEST_LOSS:0.023614918559148865\n",
      "\n",
      "EPOCH#230:\tMODEL_LOSS:0.003448680433641195\t TEST_LOSS:0.023614918559148865\n",
      "\n",
      "EPOCH#240:\tMODEL_LOSS:0.003448680433641195\t TEST_LOSS:0.023614918559148865\n",
      "\n",
      "EPOCH#250:\tMODEL_LOSS:0.003448680433641195\t TEST_LOSS:0.023614918559148865\n",
      "\n",
      "EPOCH#260:\tMODEL_LOSS:0.003448680433641195\t TEST_LOSS:0.023614918559148865\n",
      "\n",
      "EPOCH#270:\tMODEL_LOSS:0.003448680433641195\t TEST_LOSS:0.023614918559148865\n",
      "\n",
      "EPOCH#280:\tMODEL_LOSS:0.003448680433641195\t TEST_LOSS:0.023614918559148865\n",
      "\n",
      "EPOCH#290:\tMODEL_LOSS:0.003448680433641195\t TEST_LOSS:0.023614918559148865\n",
      "\n",
      "EPOCH#300:\tMODEL_LOSS:0.003448680433641195\t TEST_LOSS:0.023614918559148865\n",
      "\n",
      "EPOCH#310:\tMODEL_LOSS:0.003448680433641195\t TEST_LOSS:0.023614918559148865\n",
      "\n",
      "EPOCH#320:\tMODEL_LOSS:0.003448680433641195\t TEST_LOSS:0.023614918559148865\n",
      "\n",
      "EPOCH#330:\tMODEL_LOSS:0.003448680433641195\t TEST_LOSS:0.023614918559148865\n",
      "\n",
      "EPOCH#340:\tMODEL_LOSS:0.003448680433641195\t TEST_LOSS:0.023614918559148865\n",
      "\n",
      "EPOCH#350:\tMODEL_LOSS:0.003448680433641195\t TEST_LOSS:0.023614918559148865\n",
      "\n",
      "EPOCH#360:\tMODEL_LOSS:0.003448680433641195\t TEST_LOSS:0.023614918559148865\n",
      "\n",
      "EPOCH#370:\tMODEL_LOSS:0.003448680433641195\t TEST_LOSS:0.023614918559148865\n",
      "\n",
      "EPOCH#380:\tMODEL_LOSS:0.003448680433641195\t TEST_LOSS:0.023614918559148865\n",
      "\n",
      "EPOCH#390:\tMODEL_LOSS:0.003448680433641195\t TEST_LOSS:0.023614918559148865\n",
      "\n",
      "EPOCH#400:\tMODEL_LOSS:0.003448680433641195\t TEST_LOSS:0.023614918559148865\n",
      "\n",
      "EPOCH#410:\tMODEL_LOSS:0.003448680433641195\t TEST_LOSS:0.023614918559148865\n",
      "\n",
      "EPOCH#420:\tMODEL_LOSS:0.003448680433641195\t TEST_LOSS:0.023614918559148865\n",
      "\n",
      "EPOCH#430:\tMODEL_LOSS:0.003448680433641195\t TEST_LOSS:0.023614918559148865\n",
      "\n",
      "EPOCH#440:\tMODEL_LOSS:0.003448680433641195\t TEST_LOSS:0.023614918559148865\n",
      "\n",
      "EPOCH#450:\tMODEL_LOSS:0.003448680433641195\t TEST_LOSS:0.023614918559148865\n",
      "\n",
      "EPOCH#460:\tMODEL_LOSS:0.003448680433641195\t TEST_LOSS:0.023614918559148865\n",
      "\n",
      "EPOCH#470:\tMODEL_LOSS:0.003448680433641195\t TEST_LOSS:0.023614918559148865\n",
      "\n",
      "EPOCH#480:\tMODEL_LOSS:0.003448680433641195\t TEST_LOSS:0.023614918559148865\n",
      "\n",
      "EPOCH#490:\tMODEL_LOSS:0.003448680433641195\t TEST_LOSS:0.023614918559148865\n",
      "\n",
      "EPOCH#500:\tMODEL_LOSS:0.003448680433641195\t TEST_LOSS:0.023614918559148865\n",
      "\n",
      "EPOCH#510:\tMODEL_LOSS:0.003448680433641195\t TEST_LOSS:0.023614918559148865\n",
      "\n",
      "EPOCH#520:\tMODEL_LOSS:0.003448680433641195\t TEST_LOSS:0.023614918559148865\n",
      "\n",
      "EPOCH#530:\tMODEL_LOSS:0.003448680433641195\t TEST_LOSS:0.023614918559148865\n",
      "\n",
      "EPOCH#540:\tMODEL_LOSS:0.003448680433641195\t TEST_LOSS:0.023614918559148865\n",
      "\n",
      "EPOCH#550:\tMODEL_LOSS:0.003448680433641195\t TEST_LOSS:0.023614918559148865\n",
      "\n",
      "EPOCH#560:\tMODEL_LOSS:0.003448680433641195\t TEST_LOSS:0.023614918559148865\n",
      "\n",
      "EPOCH#570:\tMODEL_LOSS:0.003448680433641195\t TEST_LOSS:0.023614918559148865\n",
      "\n",
      "EPOCH#580:\tMODEL_LOSS:0.003448680433641195\t TEST_LOSS:0.023614918559148865\n",
      "\n",
      "EPOCH#590:\tMODEL_LOSS:0.003448680433641195\t TEST_LOSS:0.023614918559148865\n",
      "\n",
      "EPOCH#600:\tMODEL_LOSS:0.003448680433641195\t TEST_LOSS:0.023614918559148865\n",
      "\n",
      "EPOCH#610:\tMODEL_LOSS:0.003448680433641195\t TEST_LOSS:0.023614918559148865\n",
      "\n",
      "EPOCH#620:\tMODEL_LOSS:0.003448680433641195\t TEST_LOSS:0.023614918559148865\n",
      "\n",
      "EPOCH#630:\tMODEL_LOSS:0.003448680433641195\t TEST_LOSS:0.023614918559148865\n",
      "\n",
      "EPOCH#640:\tMODEL_LOSS:0.003448680433641195\t TEST_LOSS:0.023614918559148865\n",
      "\n",
      "EPOCH#650:\tMODEL_LOSS:0.003448680433641195\t TEST_LOSS:0.023614918559148865\n",
      "\n",
      "EPOCH#660:\tMODEL_LOSS:0.003448680433641195\t TEST_LOSS:0.023614918559148865\n",
      "\n",
      "EPOCH#670:\tMODEL_LOSS:0.003448680433641195\t TEST_LOSS:0.023614918559148865\n",
      "\n",
      "EPOCH#680:\tMODEL_LOSS:0.003448680433641195\t TEST_LOSS:0.023614918559148865\n",
      "\n",
      "EPOCH#690:\tMODEL_LOSS:0.003448680433641195\t TEST_LOSS:0.023614918559148865\n",
      "\n",
      "EPOCH#700:\tMODEL_LOSS:0.003448680433641195\t TEST_LOSS:0.023614918559148865\n",
      "\n",
      "EPOCH#710:\tMODEL_LOSS:0.003448680433641195\t TEST_LOSS:0.023614918559148865\n",
      "\n",
      "EPOCH#720:\tMODEL_LOSS:0.003448680433641195\t TEST_LOSS:0.023614918559148865\n",
      "\n",
      "EPOCH#730:\tMODEL_LOSS:0.003448680433641195\t TEST_LOSS:0.023614918559148865\n",
      "\n",
      "EPOCH#740:\tMODEL_LOSS:0.003448680433641195\t TEST_LOSS:0.023614918559148865\n",
      "\n",
      "EPOCH#750:\tMODEL_LOSS:0.003448680433641195\t TEST_LOSS:0.023614918559148865\n",
      "\n",
      "EPOCH#760:\tMODEL_LOSS:0.003448680433641195\t TEST_LOSS:0.023614918559148865\n",
      "\n",
      "EPOCH#770:\tMODEL_LOSS:0.003448680433641195\t TEST_LOSS:0.023614918559148865\n",
      "\n",
      "EPOCH#780:\tMODEL_LOSS:0.003448680433641195\t TEST_LOSS:0.023614918559148865\n",
      "\n",
      "EPOCH#790:\tMODEL_LOSS:0.003448680433641195\t TEST_LOSS:0.023614918559148865\n",
      "\n",
      "EPOCH#800:\tMODEL_LOSS:0.003448680433641195\t TEST_LOSS:0.023614918559148865\n",
      "\n",
      "EPOCH#810:\tMODEL_LOSS:0.003448680433641195\t TEST_LOSS:0.023614918559148865\n",
      "\n",
      "EPOCH#820:\tMODEL_LOSS:0.003448680433641195\t TEST_LOSS:0.023614918559148865\n",
      "\n",
      "EPOCH#830:\tMODEL_LOSS:0.003448680433641195\t TEST_LOSS:0.023614918559148865\n",
      "\n",
      "EPOCH#840:\tMODEL_LOSS:0.003448680433641195\t TEST_LOSS:0.023614918559148865\n",
      "\n",
      "EPOCH#850:\tMODEL_LOSS:0.003448680433641195\t TEST_LOSS:0.023614918559148865\n",
      "\n",
      "EPOCH#860:\tMODEL_LOSS:0.003448680433641195\t TEST_LOSS:0.023614918559148865\n",
      "\n",
      "EPOCH#870:\tMODEL_LOSS:0.003448680433641195\t TEST_LOSS:0.023614918559148865\n",
      "\n",
      "EPOCH#880:\tMODEL_LOSS:0.003448680433641195\t TEST_LOSS:0.023614918559148865\n",
      "\n",
      "EPOCH#890:\tMODEL_LOSS:0.003448680433641195\t TEST_LOSS:0.023614918559148865\n",
      "\n",
      "EPOCH#900:\tMODEL_LOSS:0.003448680433641195\t TEST_LOSS:0.023614918559148865\n",
      "\n",
      "EPOCH#910:\tMODEL_LOSS:0.003448680433641195\t TEST_LOSS:0.023614918559148865\n",
      "\n",
      "EPOCH#920:\tMODEL_LOSS:0.003448680433641195\t TEST_LOSS:0.023614918559148865\n",
      "\n",
      "EPOCH#930:\tMODEL_LOSS:0.003448680433641195\t TEST_LOSS:0.023614918559148865\n",
      "\n",
      "EPOCH#940:\tMODEL_LOSS:0.003448680433641195\t TEST_LOSS:0.023614918559148865\n",
      "\n",
      "EPOCH#950:\tMODEL_LOSS:0.003448680433641195\t TEST_LOSS:0.023614918559148865\n",
      "\n",
      "EPOCH#960:\tMODEL_LOSS:0.003448680433641195\t TEST_LOSS:0.023614918559148865\n",
      "\n",
      "EPOCH#970:\tMODEL_LOSS:0.003448680433641195\t TEST_LOSS:0.023614918559148865\n",
      "\n",
      "EPOCH#980:\tMODEL_LOSS:0.003448680433641195\t TEST_LOSS:0.023614918559148865\n",
      "\n",
      "EPOCH#990:\tMODEL_LOSS:0.003448680433641195\t TEST_LOSS:0.023614918559148865\n",
      "\n",
      "Out of training loop.\n"
     ]
    },
    {
     "name": "stderr",
     "output_type": "stream",
     "text": [
      "C:\\Users\\ghosh\\anaconda3\\envs\\torch_gpu_py3.9\\lib\\site-packages\\torch\\nn\\modules\\loss.py:96: UserWarning: Using a target size (torch.Size([5, 1])) that is different to the input size (torch.Size([5])). This will likely lead to incorrect results due to broadcasting. Please ensure they have the same size.\n",
      "  return F.l1_loss(input, target, reduction=self.reduction)\n"
     ]
    }
   ],
   "source": [
    "seq_epoch,seq_loss_trng, seq_loss_test = Train(my_model, set_trng, label_trng)"
   ]
  },
  {
   "cell_type": "code",
   "execution_count": 78,
   "id": "0ced1cda",
   "metadata": {},
   "outputs": [
    {
     "data": {
      "image/png": "[encoded data removed]",
      "text/plain": [
       "<Figure size 432x288 with 1 Axes>"
      ]
     },
     "metadata": {
      "needs_background": "light"
     },
     "output_type": "display_data"
    }
   ],
   "source": [
    "plt.plot(seq_epoch,seq_loss_trng,label='Training Loss')\n",
    "plt.plot(seq_epoch,seq_loss_test,label='Test Loss')\n",
    "plt.xlabel(\"epoch\")\n",
    "plt.ylabel(\"loss\")\n",
    "plt.legend() \n",
    "plt.show() "
   ]
  },
  {
   "cell_type": "code",
   "execution_count": 79,
   "id": "b91ff477",
   "metadata": {},
   "outputs": [
    {
     "data": {
      "text/plain": [
       "OrderedDict([('weights', tensor([0.6942], dtype=torch.float64)),\n",
       "             ('bias', tensor([0.2985], dtype=torch.float64))])"
      ]
     },
     "execution_count": 79,
     "metadata": {},
     "output_type": "execute_result"
    }
   ],
   "source": [
    "my_model.state_dict()"
   ]
  },
  {
   "cell_type": "code",
   "execution_count": 80,
   "id": "e478770f",
   "metadata": {},
   "outputs": [
    {
     "data": {
      "image/png": "[encoded data removed]",
      "text/plain": [
       "<Figure size 720x504 with 1 Axes>"
      ]
     },
     "metadata": {
      "needs_background": "light"
     },
     "output_type": "display_data"
    }
   ],
   "source": [
    "# Plot the predictions with actual in GRAPH below. Predictions are way off down. \n",
    "with torch.inference_mode(): \n",
    "    test_preds = my_model(set_test)\n",
    "    PlotPredictions(set_trng, label_trng, None, None, set_test, label_test, test_preds)"
   ]
  },
  {
   "cell_type": "markdown",
   "id": "0d995944",
   "metadata": {},
   "source": [
    "## Saving(Loading) models to (from) disk. (Typically as '.pt' or '.pth' extension.)\n",
    "###   URL:: https://pytorch.org/tutorials/beginner/saving_loading_models.html\n",
    "### \n",
    "###    Method: state_dict()\n",
    "###    ================\n",
    "####    Presupposes that we have a model class defined in the system. You need to instantiate the class and then \n",
    "####    load state_dict into that class. "
   ]
  },
  {
   "cell_type": "code",
   "execution_count": 81,
   "id": "0160180a",
   "metadata": {},
   "outputs": [
    {
     "name": "stdout",
     "output_type": "stream",
     "text": [
      "tensor([0.3679, 0.4374], dtype=torch.float64, grad_fn=<AddBackward0>)\n"
     ]
    }
   ],
   "source": [
    "# Saving a model state dictionary into disk as a 'pickle' file.\n",
    "STATE_PATH=\"C:\\\\ParthaGhosh\\\\MyDocuments\\\\state_dict.pt\"\n",
    "MODEL_PATH=\"C:\\\\ParthaGhosh\\\\MyDocuments\\\\my_model.pt\"\n",
    "torch.save(obj=my_model.state_dict(),f=STATE_PATH)  # Save state_dict()\n",
    "\n",
    "# Loading the ML model into a model class \n",
    "loaded_model = LinearRegressionModel()   # Assumes you already have a defined class. \n",
    "loaded_model.load_state_dict(torch.load(STATE_PATH))  # Load state_dict() \n",
    "# Important to run eval so that Drop Out/BN comes back as is and set to eval mode. \n",
    "loaded_model.eval() \n",
    "\n",
    "# PREDICTION: Run an input tensor n the newly loaded model. \n",
    "inp_test = torch.tensor([[0.1],[0.2]]).squeeze(dim=1)\n",
    "y = loaded_model(inp_test)\n",
    "print(y)"
   ]
  },
  {
   "cell_type": "markdown",
   "id": "6de5b7c8",
   "metadata": {},
   "source": [
    "## Saving(Loading) models to (from) disk. (Typically as '.pt' or '.pth' extension.)\n",
    "###  Method: torch.save/load()\n",
    "####                  ================"
   ]
  },
  {
   "cell_type": "code",
   "execution_count": 82,
   "id": "e2ed9626",
   "metadata": {},
   "outputs": [
    {
     "name": "stdout",
     "output_type": "stream",
     "text": [
      "[('weights', Parameter containing:\n",
      "tensor([0.6942], dtype=torch.float64, requires_grad=True)), ('bias', Parameter containing:\n",
      "tensor([0.2985], dtype=torch.float64, requires_grad=True))]\n"
     ]
    }
   ],
   "source": [
    "# SAVE model \n",
    "torch.save(my_model, MODEL_PATH)\n",
    "\n",
    "# LOAD model\n",
    "my_model = torch.load(MODEL_PATH)\n",
    "\n",
    "# Print model parameters just loaded \n",
    "param_list = list(my_model.named_parameters())\n",
    "print(param_list) "
   ]
  },
  {
   "cell_type": "markdown",
   "id": "2a84074b",
   "metadata": {},
   "source": [
    "# Putting it all together as follows.\n",
    "### 1. Prepare data \n",
    "### 2. Create Model by defining ML Arch, Loss Func & Optimizer  \n",
    "### 3. Train Model \n",
    "### 4. Predict on unknown data \n",
    "### 5. Evaluate Model by Plotting prediction vs actual \n",
    "### 6. Save Model  "
   ]
  },
  {
   "cell_type": "markdown",
   "id": "d951b3d9",
   "metadata": {},
   "source": [
    "##   Block-0: Import Library \n",
    "###  Follow the section below. "
   ]
  },
  {
   "cell_type": "code",
   "execution_count": 83,
   "id": "b8bfc963",
   "metadata": {},
   "outputs": [],
   "source": [
    "import torch \n",
    "import matplotlib.pyplot as plt \n",
    "import numpy as np \n",
    "import torch.nn as nn "
   ]
  },
  {
   "cell_type": "markdown",
   "id": "46a7423d",
   "metadata": {},
   "source": [
    "##   Block-1: Generate Data \n",
    "###  Follow the section below. "
   ]
  },
  {
   "cell_type": "code",
   "execution_count": 84,
   "id": "9be9b138",
   "metadata": {},
   "outputs": [],
   "source": [
    "def GenerateData(numDataPts, pcntTrng:float,pcntValid:float=None, pcntTest:float=None )-> list :\n",
    "    # Generate random array following linear function\n",
    "    \n",
    "    # Number of data points \n",
    "    num_data_pts = numDataPts \n",
    "    pcnt_trng = pcntTrng \n",
    "    pcnt_valid = pcntValid \n",
    "    pcnt_test = pcntTest \n",
    "    \n",
    "    \n",
    "    # Define slope and bias \n",
    "    bias = 0.3; slope = 0.7\n",
    "    \n",
    "    # Generate Data \n",
    "    # data_X = torch.rand(size=(num_data_pts,1), dtype=torch.float64).squeeze(dim=1)\n",
    "    data_X = torch.rand(size=(num_data_pts,1), dtype=torch.float64)\n",
    "    data_Y = (bias + slope*data_X)\n",
    "    \n",
    "    # Follow split ratios: pcnt_train,pcnt_valid,pcnt_test\n",
    "    pcnt_trng = pcntTrng; \n",
    "    if (pcnt_valid == None):\n",
    "        pcnt_valid = 0\n",
    "    pcnt_test = (100- (pcnt_valid+pcnt_trng))\n",
    "    \n",
    "    # Create train, validation, test arrays\n",
    "    num_trng_pts = (int) (numDataPts*pcnt_trng/100.0)\n",
    "    num_valid_pts = (int) (numDataPts*pcnt_valid/100.0)\n",
    "    num_test_pts = numDataPts - (num_trng_pts+num_valid_pts)\n",
    "    \n",
    "    data_train_X = data_X[:num_trng_pts]\n",
    "    label_train_y = data_Y[:num_trng_pts]\n",
    "    \n",
    "    if (num_valid_pts==0): \n",
    "        data_valid_X = None\n",
    "        label_valid_y = None\n",
    "    else:\n",
    "        data_valid_X = data_X[num_trng_pts:(num_trng_pts+num_valid_pts)]\n",
    "        label_valid_y = data_X[num_trng_pts:(num_trng_pts+num_valid_pts)]\n",
    "\n",
    "    \n",
    "    data_test_X = data_X[(num_trng_pts+num_valid_pts):]\n",
    "    label_test_y = data_Y[(num_trng_pts+num_valid_pts):]\n",
    "    \n",
    "    \n",
    "    # Return the arrays\n",
    "    return (\n",
    "                {\n",
    "                        \"train\": {\"data\":data_train_X, \"label\":label_train_y},\n",
    "                        \"valid\": {\"data\":data_valid_X, \"label\":label_valid_y},\n",
    "                        \"test\":  {\"data\":data_test_X, \"label\":label_test_y} \n",
    "                }\n",
    "            )"
   ]
  },
  {
   "cell_type": "markdown",
   "id": "1795596b",
   "metadata": {},
   "source": [
    "##   Block-2: Create Model(s).\n",
    "###  Follow the section below. Implemented both the models below:  \n",
    "####  1. Handcrafted Linear Model \n",
    "####  2. nn.Linear() model "
   ]
  },
  {
   "cell_type": "code",
   "execution_count": 85,
   "id": "e9836832",
   "metadata": {},
   "outputs": [],
   "source": [
    "class TrainableLinearModelFromScratch(nn.Module):\n",
    "    \n",
    "    # Constructor \n",
    "    def __init__(self): \n",
    "        # super(TrainableModelFromScratch,self).__init__() \n",
    "        super().__init__() \n",
    "        \n",
    "        # Model parameters \n",
    "        self.bias = nn.Parameter(torch.randn(1, requires_grad=True,dtype=torch.float64))\n",
    "        self.slope = nn.Parameter(torch.randn(1, requires_grad=True,dtype=torch.float64))\n",
    "        pass \n",
    "    \n",
    "    # Forward routine \n",
    "    def forward(self, X:torch.Tensor) -> torch.Tensor:\n",
    "        return (self.bias + self.slope * X)\n",
    "    \n",
    "    pass\n",
    "\n",
    "# This is the same linear model but using built in function of NN\n",
    "class TrainableLinearModelFromNN(nn.Module):\n",
    "    \n",
    "    # Constructor \n",
    "    def __init__(self): \n",
    "        # super(TrainableModelFromScratch,self).__init__() \n",
    "        super().__init__() \n",
    "        \n",
    "        # Model parameters \n",
    "        self.model = nn.Linear(in_features=1, out_features=1,dtype=torch.float64)\n",
    "        \n",
    "        pass \n",
    "    \n",
    "    # Forward routine \n",
    "    def forward(self, X:torch.Tensor) -> torch.Tensor:\n",
    "        ret_val = self.model(X) \n",
    "        return ret_val\n",
    "    \n",
    "    pass"
   ]
  },
  {
   "cell_type": "markdown",
   "id": "d4bad264",
   "metadata": {},
   "source": [
    "##   Block-3: Train Model.\n",
    "\n",
    "###  Follow the section below. "
   ]
  },
  {
   "cell_type": "code",
   "execution_count": 86,
   "id": "afd54d7c",
   "metadata": {},
   "outputs": [],
   "source": [
    "#\n",
    "# Train the model. \n",
    "# We are writing device agnostic cde by passing the 'device' parameter. \n",
    "#\n",
    "def TrainModel(device, numEpochs,trainableModel:nn.Module, trngX:torch.Tensor, trngY,  testX:torch.Tensor=None, testY=None): \n",
    "       \n",
    "    # Define Loss Function \n",
    "    loss_fn = nn.L1Loss().to(device)\n",
    "    \n",
    "    # Define Optimizer\n",
    "    optimizer = torch.optim.SGD(trainableModel.parameters(), lr=0.01)\n",
    "    \n",
    "    # Define number of epochs \n",
    "    num_epochs = numEpochs \n",
    "    \n",
    "    # Training data \n",
    "    trng_X = trngX.to(device) \n",
    "    trng_Y = trngY.to(device)  \n",
    "    \n",
    "    # Test data \n",
    "    test_X = testX.to(device) \n",
    "    test_Y = testY.to(device) \n",
    "    \n",
    "    # Plotting Sequences \n",
    "    seq_epoch = []\n",
    "    seq_trng_loss = []\n",
    "    seq_test_loss = [] \n",
    "    \n",
    "    # Train the model across epochs \n",
    "    for epoch in range(num_epochs): \n",
    "        \n",
    "        # Model is in gradient tracking mode\n",
    "        trainableModel.train()\n",
    "        \n",
    "        trng_predictions = trainableModel(trng_X)  # Predict: ERROR\n",
    "        \n",
    "        loss = loss_fn(trng_predictions, trng_Y)  # Compute losses\n",
    "        optimizer.zero_grad() \n",
    "        \n",
    "        # Backprop\n",
    "        loss.backward()    \n",
    "        \n",
    "        # Parameter update\n",
    "        optimizer.step()  \n",
    "        \n",
    "        if (epoch%10 == 0): \n",
    "            seq_epoch.append(epoch)\n",
    "            seq_trng_loss.append(loss.item())\n",
    "            \n",
    "            # Model is in frozen mode - Gradient updates disabled.\n",
    "            trainableModel.eval()   # Test mode\n",
    "            with torch.inference_mode(): \n",
    "                test_predictions = trainableModel(test_X)  # Test predictions \n",
    "                loss = loss_fn(test_predictions, test_Y)\n",
    "                seq_test_loss.append(loss.item())\n",
    "    \n",
    "    # Return the sequences \n",
    "    return({'seq_epoch': seq_epoch, 'seq_trng_loss': seq_trng_loss, 'seq_test_loss': seq_test_loss})"
   ]
  },
  {
   "cell_type": "markdown",
   "id": "52d08eb6",
   "metadata": {},
   "source": [
    "##   Block-4a: Plot Training Progress.\n",
    "###  Follow the section below. "
   ]
  },
  {
   "cell_type": "code",
   "execution_count": 87,
   "id": "645c93a2",
   "metadata": {},
   "outputs": [],
   "source": [
    "def PlotTrainingProgress(seqEpoch:list, seqLossTrng:list, seqLossTest:list)->None: \n",
    "    plt.plot (fig_size=(7,6))\n",
    "    plt.plot(seqEpoch,seqLossTrng, label=\"Loss (Training)\", c=\"b\")\n",
    "    plt.plot(seqEpoch,seqLossTest, label=\"Loss (Test)\", c=\"r\")\n",
    "    plt.xlabel('epoch')\n",
    "    plt.ylabel('loss')\n",
    "    plt.legend()\n",
    "    pass "
   ]
  },
  {
   "cell_type": "markdown",
   "id": "ed81643d",
   "metadata": {},
   "source": [
    "##   Block-4b: Plot Prediction vs Actual.\n",
    "###  Follow the section below. "
   ]
  },
  {
   "cell_type": "code",
   "execution_count": 88,
   "id": "d6437b84",
   "metadata": {},
   "outputs": [],
   "source": [
    "# Plot the pictures by defining a new plot function \n",
    "def PlotPredictionsVsActual(trngData, trngLabels, validData, validLabels, testData, testLabels, predictions):\n",
    "    plt.figure(figsize=(10,7))\n",
    "    if (trngData is not None):\n",
    "        plt.scatter(trngData, trngLabels, c='b',s=4, label='Training Data')\n",
    "    if (validData is not None):\n",
    "        plt.scatter(validData, validLabels, c='g',s=4, label='Validation Data')\n",
    "    if (testData is not None):\n",
    "        plt.scatter(testData, testLabels, c='r',s=4, label='Test Data')\n",
    "    if (predictions is not None):\n",
    "        plt.scatter(testData, predictions, c='c',s=4, label='Predictions')\n",
    "    plt.xlabel(\"X-axis\")\n",
    "    plt.ylabel(\"Y values\")\n",
    "    plt.legend(prop={\"size\":16})\n",
    "    plt.show()\n",
    "    pass "
   ]
  },
  {
   "cell_type": "markdown",
   "id": "f81de8db",
   "metadata": {},
   "source": [
    "##   Block-5: Save Model\n",
    "###  Follow the section below. "
   ]
  },
  {
   "cell_type": "code",
   "execution_count": 89,
   "id": "b9c6819d",
   "metadata": {},
   "outputs": [],
   "source": [
    "def SaveModel(modelObj,modelPath): \n",
    "    # Save Model as '.pt' or '.pth' \n",
    "    model_path = modelPath\n",
    "    torch.save(modelObj, model_path)\n",
    "\n",
    "    # Check by LOADing the saved model\n",
    "    my_model = torch.load(model_path)\n",
    "\n",
    "    # Print model parameters just loaded \n",
    "    param_list = list(my_model.named_parameters())\n",
    "    print(param_list) \n",
    "    pass "
   ]
  },
  {
   "cell_type": "markdown",
   "id": "6ce6054a",
   "metadata": {},
   "source": [
    "##   Block-6a: Train Model Driver Program.\n",
    "###  Follow the section below. \n",
    "#### \n",
    "#### 1. A key part to this driver routine is to use CUDA devices. \n",
    "#### 2. Trick to write Device agnostic code.\n",
    "#### 3. The process involves not just loading tensors onto the device but also \n",
    "####     pushing the ML model onto the same device.\n",
    "#### "
   ]
  },
  {
   "cell_type": "code",
   "execution_count": 90,
   "id": "a7d4a852",
   "metadata": {},
   "outputs": [
    {
     "data": {
      "image/png": "[encoded data removed]",
      "text/plain": [
       "<Figure size 432x288 with 1 Axes>"
      ]
     },
     "metadata": {
      "needs_background": "light"
     },
     "output_type": "display_data"
    },
    {
     "data": {
      "image/png": "[encoded data removed]",
      "text/plain": [
       "<Figure size 720x504 with 1 Axes>"
      ]
     },
     "metadata": {
      "needs_background": "light"
     },
     "output_type": "display_data"
    }
   ],
   "source": [
    "# Check availability of  compute device : GPU/CPU \n",
    "device = 'cuda' if torch.cuda.is_available() else 'cpu' \n",
    "\n",
    "# Generate Data \n",
    "num_data_pts = 100; pcnt_trng = 70; pcnt_valid = 20; pcnt_test = 10; \n",
    "response = GenerateData(num_data_pts, pcnt_trng, pcnt_valid, pcnt_test)\n",
    "\n",
    "# Data sets retrieved from the data generator \n",
    "data_X_trng = response['train']['data']; data_Y_trng = response['train']['label']\n",
    "data_X_valid = response['valid']['data']; data_Y_valid = response['valid']['label']\n",
    "data_X_test = response['test']['data']; data_Y_test = response['test']['label']\n",
    "\n",
    "# Instantiate Model: \n",
    "\n",
    "# Model: Hand crafted linear model. \n",
    "# ml_model = TrainableLinearModelFromScratch().to(device) \n",
    "\n",
    "# Model: Built in Linear model. \n",
    "ml_model = TrainableLinearModelFromNN().to(device)\n",
    "\n",
    "#\n",
    "# Training Loop. It retruns the following schema. \n",
    "#  {'seq_epoch': seq_epoch, 'seq_trng_loss': seq_trng_loss, 'seq_test_loss': seq_test_loss}\n",
    "#\n",
    "num_epochs= 10000\n",
    "response = TrainModel(device,num_epochs,ml_model, data_X_trng, data_Y_trng, data_X_test, data_Y_test)\n",
    "seq_epoch = response['seq_epoch']; seq_trng_loss =response['seq_trng_loss'];seq_test_loss =response['seq_test_loss'] \n",
    "\n",
    "#\n",
    "# Formal Test Predictions. NOTE: 'cpu()' is necessary as plt.plot() can't deal with \n",
    "# data that is in GPU and it all has to be a numpy array. Also, for the the tensor, we \n",
    "# need to 'detach()' the same as otherwise it contains 'requires_grad=True'.  \n",
    "#\n",
    "data_X_test_in_dev = data_X_test.to(device)\n",
    "predictions_data_Y_test = ml_model(data_X_test_in_dev).cpu().detach().numpy()\n",
    "\n",
    "# Plot(s) : Training Progress, Prediction Vs Actual  \n",
    "PlotTrainingProgress(seq_epoch,seq_trng_loss,seq_test_loss)\n",
    "\n",
    "# Template: PlotPredictionsVsActual(trngData, trngLabels, validData, validLabels, testData, testLabels, predictions):\n",
    "PlotPredictionsVsActual(data_X_trng, data_Y_trng, None, None, data_X_test, data_Y_test, predictions_data_Y_test)\n",
    "\n"
   ]
  },
  {
   "cell_type": "markdown",
   "id": "ae1ea5d0",
   "metadata": {},
   "source": [
    "## NOTE: You may see test data points scattered across X-axis. This is so because \n",
    "## we generated data array from random numbers which are not sorted. So, don't \n",
    "## expect test predictions at the right end of the plot. "
   ]
  },
  {
   "cell_type": "code",
   "execution_count": null,
   "id": "205c017d",
   "metadata": {},
   "outputs": [],
   "source": []
  },
  {
   "cell_type": "markdown",
   "id": "7f515dfc",
   "metadata": {},
   "source": [
    "##  Block-6b: Save the baselined model. \n",
    "###  Also try to load and check if your model in the disk was saved propery. \n",
    "###  Follow the section below. "
   ]
  },
  {
   "cell_type": "code",
   "execution_count": 91,
   "id": "eeca786e",
   "metadata": {},
   "outputs": [],
   "source": [
    "# import files \n",
    "from pathlib import Path \n",
    "\n",
    "def SaveModelFile(modelSubdirName, modelFileName, mlModel):\n",
    "    # Create model path name. Within current directory, it creates a path leading to \"models\" sub-directory.\n",
    "    MODEL_PATH = Path(modelSubdirName)  # \"models\" \n",
    "\n",
    "    # Creates MODEL_PATH directory\n",
    "    MODEL_PATH.mkdir(parents=True, exist_ok=True) \n",
    "\n",
    "    # Create the filename NOT the file. \n",
    "    MODEL_NAME = modelFileName #  \"my_model.pth\"\n",
    "    MODEL_SAVE_PATH= MODEL_PATH / MODEL_NAME \n",
    "\n",
    "    # Save Model as '.pt' or '.pth' \n",
    "    torch.save(obj=mlModel.state_dict(),f=MODEL_SAVE_PATH)\n",
    "    \n",
    "    # Return the model file name \n",
    "    return MODEL_SAVE_PATH"
   ]
  },
  {
   "cell_type": "code",
   "execution_count": 92,
   "id": "2cc0aaec",
   "metadata": {},
   "outputs": [
    {
     "name": "stdout",
     "output_type": "stream",
     "text": [
      "models\\my_model.pth\n"
     ]
    }
   ],
   "source": [
    "model_f_name = SaveModelFile(\"models\", \"my_model.pth\", ml_model)\n",
    "print(model_f_name)  # Stores the file name of the model. "
   ]
  },
  {
   "cell_type": "markdown",
   "id": "cd49904a",
   "metadata": {},
   "source": [
    "##  Block-6c: Load the baselined model. \n",
    "###  Also try to load and check if your model can be placed in CUDA, as well as its ability \n",
    "### to predict for the same test data set and compare with earlier predictions. \n",
    "###  Follow the section below. "
   ]
  },
  {
   "cell_type": "code",
   "execution_count": 93,
   "id": "989ae1d1",
   "metadata": {},
   "outputs": [],
   "source": [
    "def LoadModelFromSavedModel(modelSavePath):\n",
    "    \n",
    "    # First create a model object. Assumption: Model Class is known.\n",
    "    model_obj =  TrainableLinearModelFromNN()\n",
    "    \n",
    "    # Load saved dictionary objects from model file. \n",
    "    model_obj.load_state_dict(torch.load(f=modelSavePath))\n",
    "    \n",
    "    return(model_obj)"
   ]
  },
  {
   "cell_type": "code",
   "execution_count": 94,
   "id": "0f8c0f13",
   "metadata": {},
   "outputs": [
    {
     "name": "stdout",
     "output_type": "stream",
     "text": [
      "outcome_flag: [[ True]\n",
      " [ True]\n",
      " [ True]\n",
      " [ True]\n",
      " [ True]\n",
      " [ True]\n",
      " [ True]\n",
      " [ True]\n",
      " [ True]\n",
      " [ True]]\n"
     ]
    }
   ],
   "source": [
    "# Check if the loaded model's predictions indeed match the earlier one.\n",
    "# Also ensure that the loaded model is in device(CUDA/CPU). \n",
    "MODEL_SAVE_PATH = SaveModelFile(\"models\", \"my_model.pth\", ml_model)\n",
    "loaded_model = LoadModelFromSavedModel(MODEL_SAVE_PATH).to(device)\n",
    "\n",
    "# Predict  \n",
    "data_X_test_in_dev = data_X_test.to(device)\n",
    "loaded_model_preds_Y_test = loaded_model(data_X_test_in_dev).cpu().detach().numpy()\n",
    "\n",
    "# Check if predictions from earlier model and newly loaded models match. \n",
    "outcome_flag = (loaded_model_preds_Y_test==predictions_data_Y_test)\n",
    "print(f\"outcome_flag: {outcome_flag}\")"
   ]
  },
  {
   "cell_type": "markdown",
   "id": "3569769f",
   "metadata": {},
   "source": [
    "## Exercise(s):\n",
    "### URL: https://www.learnpytorch.io/01_pytorch_workflow/#exercises"
   ]
  },
  {
   "cell_type": "markdown",
   "id": "4e6b2324",
   "metadata": {},
   "source": [
    "## End of PyTorch Tutorial (Workflow) 01."
   ]
  },
  {
   "cell_type": "code",
   "execution_count": null,
   "id": "6522f42c",
   "metadata": {},
   "outputs": [],
   "source": []
  }
 ],
 "metadata": {
  "kernelspec": {
   "display_name": "Python 3 (ipykernel)",
   "language": "python",
   "name": "python3"
  },
  "language_info": {
   "codemirror_mode": {
    "name": "ipython",
    "version": 3
   },
   "file_extension": ".py",
   "mimetype": "text/x-python",
   "name": "python",
   "nbconvert_exporter": "python",
   "pygments_lexer": "ipython3",
   "version": "3.8.13"
  }
 },
 "nbformat": 4,
 "nbformat_minor": 5
}
